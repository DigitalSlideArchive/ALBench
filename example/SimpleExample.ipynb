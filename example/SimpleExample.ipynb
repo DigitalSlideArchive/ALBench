{
 "cells": [
  {
   "cell_type": "markdown",
   "id": "2bf11c9d-a1e2-4e9f-9c04-62746cc69738",
   "metadata": {},
   "source": [
    "<h1>al_bench</h1>\n",
    "Example use of the al_bench Active Learning Benchmark Tool"
   ]
  },
  {
   "cell_type": "code",
   "execution_count": null,
   "id": "e0f4c788-ce77-486a-a395-aa66c2929f3a",
   "metadata": {},
   "outputs": [],
   "source": [
    "# Install needed packages\n",
    "!pip install h5py numpy tensorflow\n",
    "!pip install -e /tf/notebooks/al_bench"
   ]
  },
  {
   "cell_type": "markdown",
   "id": "6fd7e1bd-8315-413d-b3ee-2d38e0777819",
   "metadata": {},
   "source": [
    "<h2>Dataset</h2>\n",
    "Fetch a dataset of 4598 feature vectors of length 1280 and their 4598 labels."
   ]
  },
  {
   "cell_type": "code",
   "execution_count": 1,
   "id": "b5440303-b2c7-49b8-9524-f2159c8e825c",
   "metadata": {},
   "outputs": [
    {
     "name": "stderr",
     "output_type": "stream",
     "text": [
      "2022-09-22 10:42:08.223509: I tensorflow/core/util/util.cc:169] oneDNN custom operations are on. You may see slightly different numerical results due to floating-point round-off errors from different computation orders. To turn them off, set the environment variable `TF_ENABLE_ONEDNN_OPTS=0`.\n"
     ]
    },
    {
     "name": "stdout",
     "output_type": "stream",
     "text": [
      "Read in 4598 feature vectors of length 1280.\n",
      "Read in 4598 labels for the feature vectors.\n"
     ]
    }
   ],
   "source": [
    "import al_bench as alb\n",
    "import h5py as h5\n",
    "import numpy as np\n",
    "\n",
    "filename = \"../test/TCGA-A2-A0D0-DX1_xmin68482_ymin39071_MPP-0.2500.h5py\"\n",
    "with h5.File(filename) as ds:\n",
    "    my_features = np.array(ds[\"features\"])\n",
    "    print(\n",
    "        f\"Read in {my_features.shape[0]} feature vectors of length {my_features.shape[1]}.\"\n",
    "    )\n",
    "    my_labels = np.array(ds[\"labels\"])\n",
    "    print(f\"Read in {my_labels.shape[0]} labels for the feature vectors.\")\n",
    "my_label_definitions = [\n",
    "    {\n",
    "        0: {\"description\": \"other\"},\n",
    "        1: {\"description\": \"tumor\"},\n",
    "        2: {\"description\": \"stroma\"},\n",
    "        3: {\"description\": \"infiltrate\"},\n",
    "    }\n",
    "]\n",
    "my_dataset_handler = alb.dataset.GenericDatasetHandler()\n",
    "my_dataset_handler.set_all_features(my_features)\n",
    "my_dataset_handler.set_all_label_definitions(my_label_definitions)\n",
    "my_dataset_handler.set_all_labels(my_labels)"
   ]
  },
  {
   "cell_type": "markdown",
   "id": "1665ae47-e23f-461c-9167-4e4443c4fb81",
   "metadata": {},
   "source": [
    "<h2>Model</h2>\n",
    "Build a model that we will train.  We choose a TensorFlow model, but we could have chosen a PyTorch model."
   ]
  },
  {
   "cell_type": "code",
   "execution_count": 2,
   "id": "bc4213fa-9f3f-4340-b5af-1ae3eb0b0e76",
   "metadata": {},
   "outputs": [
    {
     "name": "stderr",
     "output_type": "stream",
     "text": [
      "2022-09-22 10:42:09.794108: I tensorflow/core/common_runtime/gpu/gpu_device.cc:1922] Ignoring visible gpu device (device: 1, name: Quadro P400, pci bus id: 0000:a6:00.0, compute capability: 6.1) with core count: 2. The minimum required count is 8. You can adjust this requirement with the env var TF_MIN_GPU_MULTIPROCESSOR_COUNT.\n",
      "2022-09-22 10:42:09.794488: I tensorflow/core/platform/cpu_feature_guard.cc:193] This TensorFlow binary is optimized with oneAPI Deep Neural Network Library (oneDNN) to use the following CPU instructions in performance-critical operations:  AVX2 AVX512F AVX512_VNNI FMA\n",
      "To enable them in other operations, rebuild TensorFlow with the appropriate compiler flags.\n",
      "2022-09-22 10:42:10.371732: I tensorflow/core/common_runtime/gpu/gpu_device.cc:1532] Created device /job:localhost/replica:0/task:0/device:GPU:0 with 22344 MB memory:  -> device: 0, name: NVIDIA RTX A5000, pci bus id: 0000:73:00.0, compute capability: 8.6\n"
     ]
    }
   ],
   "source": [
    "import tensorflow as tf\n",
    "\n",
    "number_of_categories = len(my_label_definitions[0])\n",
    "number_of_features = my_features.shape[1]\n",
    "hidden_units = 128\n",
    "dropout = 0.3\n",
    "my_model = tf.keras.models.Sequential(\n",
    "    [\n",
    "        tf.keras.Input(shape=(number_of_features,)),\n",
    "        tf.keras.layers.Dense(hidden_units, activation=\"relu\"),\n",
    "        tf.keras.layers.Dropout(dropout, noise_shape=None, seed=20220909),\n",
    "        tf.keras.layers.Dense(number_of_categories, activation=\"softmax\"),\n",
    "    ],\n",
    "    name=(\n",
    "        f\"{number_of_categories}_labels_from_{number_of_features}_features_with_\"\n",
    "        f\"dropout_{dropout}\"\n",
    "    ),\n",
    ")\n",
    "my_model_handler = alb.model.TensorFlowModelHandler()\n",
    "my_model_handler.set_model(my_model)"
   ]
  },
  {
   "cell_type": "markdown",
   "id": "6e961066-33aa-4ce6-b13d-91927aa6102e",
   "metadata": {},
   "source": [
    "<h2>Active Learning Strategy</h2>\n",
    "Choose an active learning strategy to test"
   ]
  },
  {
   "cell_type": "code",
   "execution_count": 3,
   "id": "7331ecb0-90b8-4b51-b5f1-4c1e1bd855c5",
   "metadata": {},
   "outputs": [],
   "source": [
    "# my_strategy_handler = alb.strategy.RandomStrategyHandler()\n",
    "my_strategy_handler = alb.strategy.LeastConfidenceStrategyHandler()\n",
    "# my_strategy_handler = alb.strategy.LeastMarginStrategyHandler()\n",
    "# my_strategy_handler = alb.strategy.EntropyStrategyHandler()\n",
    "\n",
    "my_strategy_handler.set_dataset_handler(my_dataset_handler)\n",
    "my_strategy_handler.set_model_handler(my_model_handler)\n",
    "my_strategy_handler.set_learning_parameters(\n",
    "    label_of_interest=0,  # We've supplied only one label per feature vector\n",
    "    maximum_iterations=5,\n",
    "    number_to_select_per_iteration=20,\n",
    ")"
   ]
  },
  {
   "cell_type": "markdown",
   "id": "92c97f48-383f-41e9-af12-3a317e9b7c87",
   "metadata": {},
   "source": [
    "<h2>Run the benchmarking tool</h2>"
   ]
  },
  {
   "cell_type": "code",
   "execution_count": 4,
   "id": "e37ed8f7-dab5-448e-b66e-94df79802326",
   "metadata": {},
   "outputs": [
    {
     "name": "stdout",
     "output_type": "stream",
     "text": [
      "Predicting for 4598 examples\n"
     ]
    },
    {
     "name": "stderr",
     "output_type": "stream",
     "text": [
      "2022-09-22 10:42:12.026890: I tensorflow/stream_executor/cuda/cuda_blas.cc:1786] TensorFloat-32 will be used for the matrix multiplication. This will only be logged once.\n"
     ]
    },
    {
     "name": "stdout",
     "output_type": "stream",
     "text": [
      "Training with 20 examples\n",
      "Predicting for 4598 examples\n",
      "Training with 40 examples\n",
      "Predicting for 4598 examples\n",
      "Training with 60 examples\n",
      "Predicting for 4598 examples\n",
      "Training with 80 examples\n",
      "Predicting for 4598 examples\n",
      "Training with 100 examples\n",
      "Predicting for 4598 examples\n"
     ]
    }
   ],
   "source": [
    "# Assume that we start with nothing labeled\n",
    "currently_labeled_examples = set()\n",
    "my_strategy_handler.run(currently_labeled_examples)"
   ]
  },
  {
   "cell_type": "code",
   "execution_count": 5,
   "id": "eaa8d17d-f68f-4349-81f5-4c2f10d780a5",
   "metadata": {},
   "outputs": [
    {
     "name": "stdout",
     "output_type": "stream",
     "text": [
      "len(log) = 2090\n",
      "log[:3] = [{'utcnow': datetime.datetime(2022, 9, 22, 14, 42, 10, 841424), 'method': 'on_predict_begin', 'logs': {}}, {'utcnow': datetime.datetime(2022, 9, 22, 14, 42, 10, 889419), 'method': 'on_predict_batch_begin', 'batch': 0, 'logs': {}}, {'utcnow': datetime.datetime(2022, 9, 22, 14, 42, 12, 29012), 'method': 'on_predict_batch_end', 'batch': 0, 'logs': {'outputs': array([[0.17637576, 0.30988383, 0.31052232, 0.20321806],\n",
      "       [0.15839325, 0.29567295, 0.34109855, 0.2048352 ],\n",
      "       [0.15700321, 0.4227508 , 0.29908744, 0.12115856],\n",
      "       [0.11130828, 0.4421247 , 0.32737586, 0.1191912 ],\n",
      "       [0.14481519, 0.37979108, 0.3072532 , 0.16814053],\n",
      "       [0.1366824 , 0.41189665, 0.3156456 , 0.13577527],\n",
      "       [0.12464081, 0.34451035, 0.42326963, 0.10757921],\n",
      "       [0.19432417, 0.38617337, 0.26430535, 0.15519705],\n",
      "       [0.2317029 , 0.24509075, 0.34228304, 0.18092331],\n",
      "       [0.22914907, 0.24170472, 0.30612883, 0.22301738],\n",
      "       [0.23914844, 0.21286182, 0.39124307, 0.15674673],\n",
      "       [0.2510425 , 0.22902945, 0.3474301 , 0.17249802],\n",
      "       [0.22573674, 0.27772605, 0.35786313, 0.13867413],\n",
      "       [0.24684532, 0.23088928, 0.3607819 , 0.16148356],\n",
      "       [0.22455056, 0.3084704 , 0.35185844, 0.11512057],\n",
      "       [0.19783965, 0.27152112, 0.346323  , 0.18431623],\n",
      "       [0.2408041 , 0.31223506, 0.3110255 , 0.13593532],\n",
      "       [0.20007607, 0.2914934 , 0.32076383, 0.18766677],\n",
      "       [0.22732984, 0.2617263 , 0.38901177, 0.12193202],\n",
      "       [0.1956637 , 0.27031654, 0.40834594, 0.12567376],\n",
      "       [0.18779895, 0.3222023 , 0.37557697, 0.11442173],\n",
      "       [0.2001081 , 0.24500895, 0.40591022, 0.14897273],\n",
      "       [0.27495638, 0.28547025, 0.25912654, 0.18044686],\n",
      "       [0.19261831, 0.37373015, 0.2592028 , 0.17444874],\n",
      "       [0.21043453, 0.2243064 , 0.34114197, 0.2241171 ],\n",
      "       [0.1723214 , 0.2087756 , 0.42792836, 0.19097468],\n",
      "       [0.23443428, 0.25038102, 0.36404654, 0.15113816],\n",
      "       [0.20858167, 0.32532194, 0.36169422, 0.10440221],\n",
      "       [0.20271702, 0.37448975, 0.30708352, 0.11570967],\n",
      "       [0.2442782 , 0.30067706, 0.32458085, 0.1304639 ],\n",
      "       [0.23373607, 0.3272538 , 0.28808326, 0.15092693],\n",
      "       [0.18190295, 0.31554574, 0.4047848 , 0.09776648]], dtype=float32)}}]\n"
     ]
    }
   ],
   "source": [
    "log = my_strategy_handler.get_log()\n",
    "print(f\"{len(log) = }\")\n",
    "print(f\"{log[:3] = }\")"
   ]
  }
 ],
 "metadata": {
  "kernelspec": {
   "display_name": "al_bench",
   "language": "python",
   "name": "al_bench"
  },
  "language_info": {
   "codemirror_mode": {
    "name": "ipython",
    "version": 3
   },
   "file_extension": ".py",
   "mimetype": "text/x-python",
   "name": "python",
   "nbconvert_exporter": "python",
   "pygments_lexer": "ipython3",
   "version": "3.8.10"
  }
 },
 "nbformat": 4,
 "nbformat_minor": 5
}
