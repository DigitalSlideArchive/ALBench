{
 "cells": [
  {
   "cell_type": "markdown",
   "id": "2bf11c9d-a1e2-4e9f-9c04-62746cc69738",
   "metadata": {},
   "source": [
    "<h1>al_bench</h1>\n",
    "Example use of the al_bench Active Learning Benchmark Tool"
   ]
  },
  {
   "cell_type": "code",
   "execution_count": null,
   "id": "888f7b88-7226-420f-ac25-b280dd627be0",
   "metadata": {},
   "outputs": [],
   "source": [
    "# Install needed packages\n",
    "!pip install h5py numpy tensorflow tensorboard\n",
    "!pip install -e /tf/notebooks/al_bench"
   ]
  },
  {
   "cell_type": "markdown",
   "id": "6fd7e1bd-8315-413d-b3ee-2d38e0777819",
   "metadata": {},
   "source": [
    "<h2>Find a dataset and create a Dataset Handler</h2>\n",
    "Fetch a dataset of 4598 feature vectors of length 1280 and their 4598 labels."
   ]
  },
  {
   "cell_type": "code",
   "execution_count": 1,
   "id": "114537f1-77da-4bbc-841e-8f2ee9557282",
   "metadata": {},
   "outputs": [
    {
     "name": "stderr",
     "output_type": "stream",
     "text": [
      "2022-11-15 14:14:37.724932: I tensorflow/core/platform/cpu_feature_guard.cc:193] This TensorFlow binary is optimized with oneAPI Deep Neural Network Library (oneDNN) to use the following CPU instructions in performance-critical operations:  AVX2 AVX512F AVX512_VNNI FMA\n",
      "To enable them in other operations, rebuild TensorFlow with the appropriate compiler flags.\n",
      "2022-11-15 14:14:37.853871: I tensorflow/core/util/util.cc:169] oneDNN custom operations are on. You may see slightly different numerical results due to floating-point round-off errors from different computation orders. To turn them off, set the environment variable `TF_ENABLE_ONEDNN_OPTS=0`.\n",
      "2022-11-15 14:14:37.890005: E tensorflow/stream_executor/cuda/cuda_blas.cc:2981] Unable to register cuBLAS factory: Attempting to register factory for plugin cuBLAS when one has already been registered\n",
      "2022-11-15 14:14:38.500053: W tensorflow/stream_executor/platform/default/dso_loader.cc:64] Could not load dynamic library 'libnvinfer.so.7'; dlerror: libnvinfer.so.7: cannot open shared object file: No such file or directory; LD_LIBRARY_PATH: :/usr/local/cuda/lib64:/home/lee.newberg/Support/dakota-6.13.0.src-install/lib\n",
      "2022-11-15 14:14:38.500156: W tensorflow/stream_executor/platform/default/dso_loader.cc:64] Could not load dynamic library 'libnvinfer_plugin.so.7'; dlerror: libnvinfer_plugin.so.7: cannot open shared object file: No such file or directory; LD_LIBRARY_PATH: :/usr/local/cuda/lib64:/home/lee.newberg/Support/dakota-6.13.0.src-install/lib\n",
      "2022-11-15 14:14:38.500163: W tensorflow/compiler/tf2tensorrt/utils/py_utils.cc:38] TF-TRT Warning: Cannot dlopen some TensorRT libraries. If you would like to use Nvidia GPU with TensorRT, please make sure the missing libraries mentioned above are installed properly.\n"
     ]
    },
    {
     "name": "stdout",
     "output_type": "stream",
     "text": [
      "Read in 4598 feature vectors of length 1280.\n",
      "Read in 4598 labels for the feature vectors.\n"
     ]
    }
   ],
   "source": [
    "import al_bench as alb\n",
    "import h5py as h5\n",
    "import numpy as np\n",
    "import random\n",
    "\n",
    "filename = \"../test/TCGA-A2-A0D0-DX1_xmin68482_ymin39071_MPP-0.2500.h5py\"\n",
    "with h5.File(filename) as ds:\n",
    "    my_feature_vectors = np.array(ds[\"features\"])\n",
    "    print(\n",
    "        f\"Read in {my_feature_vectors.shape[0]} feature vectors of length {my_feature_vectors.shape[1]}.\"\n",
    "    )\n",
    "    my_labels = np.array(ds[\"labels\"])\n",
    "    print(f\"Read in {my_labels.shape[0]} labels for the feature vectors.\")\n",
    "my_label_definitions = [\n",
    "    {\n",
    "        0: {\"description\": \"other\"},\n",
    "        1: {\"description\": \"tumor\"},\n",
    "        2: {\"description\": \"stroma\"},\n",
    "        3: {\"description\": \"infiltrate\"},\n",
    "    }\n",
    "]\n",
    "my_dataset_handler = alb.dataset.GenericDatasetHandler()\n",
    "my_dataset_handler.set_all_feature_vectors(my_feature_vectors)\n",
    "my_dataset_handler.set_all_label_definitions(my_label_definitions)\n",
    "my_dataset_handler.set_all_labels(my_labels)\n",
    "\n",
    "# Set aside disjoint sets of examples for use in validation and as the initial training set\n",
    "number_of_validation_indices = my_feature_vectors.shape[0] // 10\n",
    "number_of_initial_training = 20\n",
    "random_samples = random.sample(\n",
    "    range(my_feature_vectors.shape[0]),\n",
    "    number_of_validation_indices + number_of_initial_training,\n",
    ")\n",
    "my_dataset_handler.set_validation_indices(\n",
    "    np.array(random_samples[:number_of_validation_indices])\n",
    ")\n",
    "currently_labeled_examples = np.array(random_samples[number_of_validation_indices:])"
   ]
  },
  {
   "cell_type": "markdown",
   "id": "1665ae47-e23f-461c-9167-4e4443c4fb81",
   "metadata": {},
   "source": [
    "<h2>Create a model and a Model Handler</h2>\n",
    "Build a model that we will train.  We will build both a TensorFlow model and a PyTorch model, though normally one model is sufficient.  We'll choose one of them for use with the active learning strategy."
   ]
  },
  {
   "cell_type": "code",
   "execution_count": 2,
   "id": "3576b1b9-a56a-44c0-ab72-3a4011d927ce",
   "metadata": {},
   "outputs": [],
   "source": [
    "number_of_categories = len(my_label_definitions[0])\n",
    "number_of_features = my_feature_vectors.shape[1]\n",
    "hidden_units = 128\n",
    "dropout = 0.3"
   ]
  },
  {
   "cell_type": "markdown",
   "id": "bf1e4959-ffd6-4041-bb0a-98f82cdfd770",
   "metadata": {},
   "source": [
    "<h3>Build a TensorFlow model and its Model Handler</h3>"
   ]
  },
  {
   "cell_type": "code",
   "execution_count": 3,
   "id": "4e914905-f264-4a40-84df-0e692c0c1ecd",
   "metadata": {},
   "outputs": [
    {
     "name": "stdout",
     "output_type": "stream",
     "text": [
      "Tensorflow model handler built\n"
     ]
    },
    {
     "name": "stderr",
     "output_type": "stream",
     "text": [
      "2022-11-15 14:14:39.238755: I tensorflow/core/common_runtime/gpu/gpu_device.cc:2006] Ignoring visible gpu device (device: 1, name: Quadro P400, pci bus id: 0000:a6:00.0, compute capability: 6.1) with core count: 2. The minimum required count is 8. You can adjust this requirement with the env var TF_MIN_GPU_MULTIPROCESSOR_COUNT.\n",
      "2022-11-15 14:14:39.239160: I tensorflow/core/platform/cpu_feature_guard.cc:193] This TensorFlow binary is optimized with oneAPI Deep Neural Network Library (oneDNN) to use the following CPU instructions in performance-critical operations:  AVX2 AVX512F AVX512_VNNI FMA\n",
      "To enable them in other operations, rebuild TensorFlow with the appropriate compiler flags.\n",
      "2022-11-15 14:14:39.898377: I tensorflow/core/common_runtime/gpu/gpu_device.cc:1616] Created device /job:localhost/replica:0/task:0/device:GPU:0 with 22327 MB memory:  -> device: 0, name: NVIDIA RTX A5000, pci bus id: 0000:73:00.0, compute capability: 8.6\n"
     ]
    }
   ],
   "source": [
    "import tensorflow as tf\n",
    "\n",
    "my_tensorflow_model = tf.keras.models.Sequential(\n",
    "    [\n",
    "        tf.keras.Input(shape=(number_of_features,)),\n",
    "        tf.keras.layers.Dense(hidden_units, activation=\"relu\"),\n",
    "        tf.keras.layers.Dropout(dropout, noise_shape=None, seed=20220909),\n",
    "        tf.keras.layers.Dense(number_of_categories, activation=\"softmax\"),\n",
    "    ],\n",
    "    name=(\n",
    "        f\"{number_of_categories}_labels_from_{number_of_features}_features_with_\"\n",
    "        f\"dropout_{dropout}\"\n",
    "    ),\n",
    ")\n",
    "my_tensorflow_model_handler = alb.model.TensorFlowModelHandler()\n",
    "my_tensorflow_model_handler.set_model(my_tensorflow_model)\n",
    "print(\"Tensorflow model handler built\")"
   ]
  },
  {
   "cell_type": "markdown",
   "id": "3a077bc0-d613-470a-b33b-a10ce7592727",
   "metadata": {},
   "source": [
    "<h3>Build a Torch model and its Model Handler</h3>"
   ]
  },
  {
   "cell_type": "code",
   "execution_count": 4,
   "id": "22abc29a-152a-4184-813a-5a66b8ed105c",
   "metadata": {},
   "outputs": [
    {
     "name": "stdout",
     "output_type": "stream",
     "text": [
      "PyTorch model handler built\n"
     ]
    }
   ],
   "source": [
    "import torch\n",
    "\n",
    "\n",
    "class MyTorchModel(torch.nn.modules.module.Module):\n",
    "    def __init__(self, number_of_features, number_of_categories):\n",
    "        super(MyTorchModel, self).__init__()\n",
    "        self.fc1 = torch.nn.Linear(number_of_features, hidden_units)\n",
    "        self.relu1 = torch.nn.ReLU()\n",
    "        self.dropout1 = torch.nn.Dropout(p=dropout)\n",
    "        self.fc2 = torch.nn.Linear(hidden_units, number_of_categories)\n",
    "        self.softmax1 = torch.nn.Softmax(dim=-1)\n",
    "\n",
    "    def forward(self, x):\n",
    "        x = self.fc1(x)\n",
    "        x = self.relu1(x)\n",
    "        x = self.dropout1(x)\n",
    "        x = self.fc2(x)\n",
    "        x = self.softmax1(x)\n",
    "        return x\n",
    "\n",
    "\n",
    "my_torch_model = MyTorchModel(number_of_features, number_of_categories)\n",
    "\n",
    "my_pytorch_model_handler = alb.model.PyTorchModelHandler()\n",
    "my_pytorch_model_handler.set_model(my_torch_model)\n",
    "print(\"PyTorch model handler built\")"
   ]
  },
  {
   "cell_type": "markdown",
   "id": "87fbd678-e488-4b99-912c-7318d5507be1",
   "metadata": {},
   "source": [
    "<h3>Choose one of the models to proceed with</h3>"
   ]
  },
  {
   "cell_type": "code",
   "execution_count": 5,
   "id": "9304dc37-2936-4b20-9096-2162390943bb",
   "metadata": {},
   "outputs": [],
   "source": [
    "my_model_handler = my_tensorflow_model_handler\n",
    "# my_model_handler = my_pytorch_model_handler"
   ]
  },
  {
   "cell_type": "markdown",
   "id": "6e961066-33aa-4ce6-b13d-91927aa6102e",
   "metadata": {},
   "source": [
    "<h2>Make use of Strategy Handlers for active learning</h2>\n",
    "Let's run and compare four active learning strategies"
   ]
  },
  {
   "cell_type": "code",
   "execution_count": 6,
   "id": "7331ecb0-90b8-4b51-b5f1-4c1e1bd855c5",
   "metadata": {},
   "outputs": [
    {
     "name": "stdout",
     "output_type": "stream",
     "text": [
      "=== Begin Strategy: Random ===\n",
      "Training with 20 examples\n"
     ]
    },
    {
     "name": "stderr",
     "output_type": "stream",
     "text": [
      "2022-11-15 14:14:42.661687: I tensorflow/stream_executor/cuda/cuda_blas.cc:1614] TensorFloat-32 will be used for the matrix multiplication. This will only be logged once.\n"
     ]
    },
    {
     "name": "stdout",
     "output_type": "stream",
     "text": [
      "Predicting for 4598 examples\n",
      "Training with 30 examples\n",
      "Predicting for 4598 examples\n",
      "Training with 40 examples\n",
      "Predicting for 4598 examples\n",
      "Training with 50 examples\n",
      "Predicting for 4598 examples\n",
      "Training with 60 examples\n",
      "Predicting for 4598 examples\n",
      "Training with 70 examples\n",
      "Predicting for 4598 examples\n",
      "Training with 80 examples\n",
      "Predicting for 4598 examples\n",
      "Training with 90 examples\n",
      "Predicting for 4598 examples\n",
      "Training with 100 examples\n",
      "Predicting for 4598 examples\n",
      "=== Begin Strategy: LeastConfidence ===\n",
      "Training with 20 examples\n",
      "Predicting for 4598 examples\n",
      "Training with 30 examples\n",
      "Predicting for 4598 examples\n",
      "Training with 40 examples\n",
      "Predicting for 4598 examples\n",
      "Training with 50 examples\n",
      "Predicting for 4598 examples\n",
      "Training with 60 examples\n",
      "Predicting for 4598 examples\n",
      "Training with 70 examples\n",
      "Predicting for 4598 examples\n",
      "Training with 80 examples\n",
      "Predicting for 4598 examples\n",
      "Training with 90 examples\n",
      "Predicting for 4598 examples\n",
      "Training with 100 examples\n",
      "Predicting for 4598 examples\n",
      "=== Begin Strategy: LeastMargin ===\n",
      "Training with 20 examples\n",
      "Predicting for 4598 examples\n",
      "Training with 30 examples\n",
      "Predicting for 4598 examples\n",
      "Training with 40 examples\n",
      "Predicting for 4598 examples\n",
      "Training with 50 examples\n",
      "Predicting for 4598 examples\n",
      "Training with 60 examples\n",
      "Predicting for 4598 examples\n",
      "Training with 70 examples\n",
      "Predicting for 4598 examples\n",
      "Training with 80 examples\n",
      "Predicting for 4598 examples\n",
      "Training with 90 examples\n",
      "Predicting for 4598 examples\n",
      "Training with 100 examples\n",
      "Predicting for 4598 examples\n",
      "=== Begin Strategy: Entropy ===\n",
      "Training with 20 examples\n",
      "Predicting for 4598 examples\n",
      "Training with 30 examples\n",
      "Predicting for 4598 examples\n",
      "Training with 40 examples\n",
      "Predicting for 4598 examples\n",
      "Training with 50 examples\n",
      "Predicting for 4598 examples\n",
      "Training with 60 examples\n",
      "Predicting for 4598 examples\n",
      "Training with 70 examples\n",
      "Predicting for 4598 examples\n",
      "Training with 80 examples\n",
      "Predicting for 4598 examples\n",
      "Training with 90 examples\n",
      "Predicting for 4598 examples\n",
      "Training with 100 examples\n",
      "Predicting for 4598 examples\n",
      "=== Done ===\n"
     ]
    }
   ],
   "source": [
    "import shutil\n",
    "import os\n",
    "\n",
    "try:\n",
    "    shutil.rmtree(\"runs\")  # DELETE OLD LOG FILES\n",
    "except:\n",
    "    pass\n",
    "\n",
    "for name, my_strategy_handler in (\n",
    "    (\"Random\", alb.strategy.RandomStrategyHandler()),\n",
    "    (\"LeastConfidence\", alb.strategy.LeastConfidenceStrategyHandler()),\n",
    "    (\"LeastMargin\", alb.strategy.LeastMarginStrategyHandler()),\n",
    "    (\"Entropy\", alb.strategy.EntropyStrategyHandler()),\n",
    "):\n",
    "    print(f\"=== Begin Strategy: {name} ===\")\n",
    "    my_strategy_handler.set_dataset_handler(my_dataset_handler)\n",
    "    my_strategy_handler.set_model_handler(my_model_handler)\n",
    "    my_strategy_handler.set_learning_parameters(\n",
    "        label_of_interest=0,  # We've supplied only one label per feature vector\n",
    "        maximum_queries=8,\n",
    "        number_to_select_per_query=10,\n",
    "    )\n",
    "    # Simulate the strategy once\n",
    "    my_strategy_handler.run(currently_labeled_examples)\n",
    "    # Write out collected information to disk\n",
    "    log_dir = os.path.join(\"runs\", name)\n",
    "    # Write accuracy and loss information during training\n",
    "    my_strategy_handler.write_train_log_for_tensorboard(log_dir=log_dir)\n",
    "    # Write confidence statistics during active learning\n",
    "    my_strategy_handler.write_confidence_log_for_tensorboard(log_dir=log_dir)\n",
    "print(\"=== Done ===\")"
   ]
  },
  {
   "cell_type": "markdown",
   "id": "5e7135fa-8548-4162-a55c-32716ffe81f7",
   "metadata": {},
   "source": [
    "<h2>Use with TensorBoard</h2>"
   ]
  },
  {
   "cell_type": "code",
   "execution_count": 7,
   "id": "b2b2589a-a665-4124-809a-d04cd114b71c",
   "metadata": {},
   "outputs": [
    {
     "data": {
      "text/html": [
       "\n",
       "      <iframe id=\"tensorboard-frame-ed20785c754e4788\" width=\"100%\" height=\"800\" frameborder=\"0\">\n",
       "      </iframe>\n",
       "      <script>\n",
       "        (function() {\n",
       "          const frame = document.getElementById(\"tensorboard-frame-ed20785c754e4788\");\n",
       "          const url = new URL(\"/\", window.location);\n",
       "          const port = 6006;\n",
       "          if (port) {\n",
       "            url.port = port;\n",
       "          }\n",
       "          frame.src = url;\n",
       "        })();\n",
       "      </script>\n",
       "    "
      ],
      "text/plain": [
       "<IPython.core.display.HTML object>"
      ]
     },
     "metadata": {},
     "output_type": "display_data"
    }
   ],
   "source": [
    "%load_ext tensorboard\n",
    "%tensorboard --logdir runs"
   ]
  },
  {
   "cell_type": "code",
   "execution_count": null,
   "id": "832c1a17-b976-4773-9588-e99fe67ed891",
   "metadata": {},
   "outputs": [],
   "source": []
  }
 ],
 "metadata": {
  "kernelspec": {
   "display_name": "al_bench",
   "language": "python",
   "name": "al_bench"
  },
  "language_info": {
   "codemirror_mode": {
    "name": "ipython",
    "version": 3
   },
   "file_extension": ".py",
   "mimetype": "text/x-python",
   "name": "python",
   "nbconvert_exporter": "python",
   "pygments_lexer": "ipython3",
   "version": "3.8.10"
  }
 },
 "nbformat": 4,
 "nbformat_minor": 5
}
