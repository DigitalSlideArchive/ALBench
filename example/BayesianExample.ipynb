{
 "cells": [
  {
   "cell_type": "markdown",
   "id": "f297f83e-bf29-480c-9573-0631e2ba66cb",
   "metadata": {},
   "source": [
    "<h1>ALBench project: BatchBALD</h1>\n",
    "\n",
    "<p>This Jupyter lab demonstrates use of the al_bench Active Learning Benchmark Tool with a Bayesian Neural Network and BatchBALD</p>"
   ]
  },
  {
   "cell_type": "markdown",
   "id": "bfeb8816-9fdb-46bc-bca3-c8bb148d9dce",
   "metadata": {},
   "source": [
    "<h2>Overview</h2>\n",
    "\n",
    "<p>ALBench is a general-purpose tool for evaluating active learning strategies for labeling, machine learning models, and their suitability for applications. Researchers can use ALBench to investigate new active learning strategies in the context of a specific model and dataset; or multiple models and datasets can be used to get a broader picture of each strategy's effectiveness in multiple contexts.</p>\n",
    "\n",
    "<p>In this example, we will show the use of the BatchBALD strategy using an MNIST dataset and Bayesian model.  We create a dataset handler to manage data and labels generated from an oracle, and we create a model and model handler to manage the iterative training cycles. These are then used with the active learning strategy handler.</p>\n",
    "\n",
    "<p>Each ALBench simulation requires the user to specifiy a DatasetHandler, a ModelHandler, and a StrategyHandler.  A <b>DatasetHandler</b> provides an interface to the other handlers that is agnostic to the format of the dataset.  A <b>ModelHandler</b> provides an interface that is agnostic to such things as whether the model is implemented in TensorFlow or PyTorch.  A <b>StrategyHandler</b> implements a specific active learning strategy: for non-Bayesian models this includes random selection, least confidence, least margin, and maximum entropy; for Bayesian models this includes BatchBALD.\n",
    "    \n",
    "The present implementation of the BatchBALD active learning strategy leans heavily upon use of the <a href=\"https://github.com/BlackHC/batchbald_redux/blob/master/README.md\">batchbald_redux Python package</a>.  Programmers who wish to add additional strategies to ALBench may benefit from looking at the implementation of the BatchBALDStrategyHandler within <a href=\"https://github.com/DigitalSlideArchive/ALBench/blob/main/al_bench/strategy.py\">al_bench/strategy.py</a>."
   ]
  },
  {
   "cell_type": "markdown",
   "id": "c41732a2-e631-4af0-a79d-e943fb2dfa7c",
   "metadata": {},
   "source": [
    "<h2>Install needed Python packages</h2>\n",
    "\n",
    "<p>If you haven't yet installed these packages, remove the \"<code>#</code>\" characters and run this code block.</p>"
   ]
  },
  {
   "cell_type": "code",
   "execution_count": 1,
   "id": "99902cec-e510-435d-a4ae-d3571ae7767d",
   "metadata": {},
   "outputs": [],
   "source": [
    "#!pip install -e ../../ALBench  # Installs al_bench and dependencies\n",
    "#!pip install ipywidgets\n",
    "#!jupyter labextension install @jupyter-widgets/jupyterlab-manager"
   ]
  },
  {
   "cell_type": "markdown",
   "id": "b69bf3f6-3cbf-43e3-8b88-256b1fb3c27f",
   "metadata": {},
   "source": [
    "<h2>Import Python packages</h2>\n",
    "\n",
    "We will use the fully qualified names in this notebook so that the provenance of the functions is obvious."
   ]
  },
  {
   "cell_type": "code",
   "execution_count": 2,
   "id": "d1b5d831-5f7b-48cb-8c8f-2e75706127b4",
   "metadata": {},
   "outputs": [
    {
     "name": "stderr",
     "output_type": "stream",
     "text": [
      "2023-02-14 13:11:46.254219: I tensorflow/core/platform/cpu_feature_guard.cc:193] This TensorFlow binary is optimized with oneAPI Deep Neural Network Library (oneDNN) to use the following CPU instructions in performance-critical operations:  AVX2 AVX512F AVX512_VNNI FMA\n",
      "To enable them in other operations, rebuild TensorFlow with the appropriate compiler flags.\n",
      "2023-02-14 13:11:46.380124: I tensorflow/core/util/util.cc:169] oneDNN custom operations are on. You may see slightly different numerical results due to floating-point round-off errors from different computation orders. To turn them off, set the environment variable `TF_ENABLE_ONEDNN_OPTS=0`.\n",
      "2023-02-14 13:11:46.415908: E tensorflow/stream_executor/cuda/cuda_blas.cc:2981] Unable to register cuBLAS factory: Attempting to register factory for plugin cuBLAS when one has already been registered\n",
      "2023-02-14 13:11:47.005067: W tensorflow/stream_executor/platform/default/dso_loader.cc:64] Could not load dynamic library 'libnvinfer.so.7'; dlerror: libnvinfer.so.7: cannot open shared object file: No such file or directory; LD_LIBRARY_PATH: :/usr/local/cuda/lib64:/home/lee.newberg/Support/dakota-6.13.0.src-install/lib\n",
      "2023-02-14 13:11:47.005143: W tensorflow/stream_executor/platform/default/dso_loader.cc:64] Could not load dynamic library 'libnvinfer_plugin.so.7'; dlerror: libnvinfer_plugin.so.7: cannot open shared object file: No such file or directory; LD_LIBRARY_PATH: :/usr/local/cuda/lib64:/home/lee.newberg/Support/dakota-6.13.0.src-install/lib\n",
      "2023-02-14 13:11:47.005149: W tensorflow/compiler/tf2tensorrt/utils/py_utils.cc:38] TF-TRT Warning: Cannot dlopen some TensorRT libraries. If you would like to use Nvidia GPU with TensorRT, please make sure the missing libraries mentioned above are installed properly.\n"
     ]
    }
   ],
   "source": [
    "import al_bench as alb\n",
    "import al_bench.strategy\n",
    "import batchbald_redux as bbald\n",
    "import batchbald_redux.active_learning\n",
    "import batchbald_redux.consistent_mc_dropout\n",
    "import batchbald_redux.repeated_mnist\n",
    "import numpy as np\n",
    "import os\n",
    "import random\n",
    "import shutil\n",
    "import torch\n",
    "from datetime import datetime"
   ]
  },
  {
   "cell_type": "markdown",
   "id": "6fd7e1bd-8315-413d-b3ee-2d38e0777819",
   "metadata": {},
   "source": [
    "<h2>Fetch a dataset</h2>\n",
    "\n",
    "<p>We fetch the labeled MNIST dataset and use all digits from 0 to 9.  ALBench requires labels for all samples. The label for a sample is \"revealed\" during training only when the active learning strategy indicates that the sample has been selected for labeling by the oracle.</p>"
   ]
  },
  {
   "cell_type": "code",
   "execution_count": 3,
   "id": "2cbbb249-3729-4469-811a-0127fe5674e2",
   "metadata": {},
   "outputs": [
    {
     "name": "stdout",
     "output_type": "stream",
     "text": [
      "Dataset is read\n"
     ]
    }
   ],
   "source": [
    "mnist = bbald.repeated_mnist.create_repeated_MNIST_dataset(\n",
    "    num_repetitions=1, add_noise=False\n",
    ")\n",
    "train_dataset, test_dataset = mnist\n",
    "\n",
    "print(\"Dataset is read\")"
   ]
  },
  {
   "cell_type": "markdown",
   "id": "bb3cf3cd-3fc3-40d8-b487-94e06c13ef27",
   "metadata": {},
   "source": [
    "<h2>Create a DatasetHandler</h2>\n",
    "\n",
    "<p>The current implementation of the al_bench.GenericDatasetHandler requires data to be in numpy array format. Here, we start with a tensorflow.data.Dataset and convert it to a numpy array.</p>"
   ]
  },
  {
   "cell_type": "code",
   "execution_count": 4,
   "id": "bed1a2ae-d4c3-44e2-8585-a4a9d5e3e062",
   "metadata": {},
   "outputs": [
    {
     "name": "stdout",
     "output_type": "stream",
     "text": [
      "feature_shape = (28, 28)\n",
      "Dataset is ready as numpy\n",
      "DatasetHandler is initialized\n"
     ]
    }
   ],
   "source": [
    "# al_bench datasets are supplied as numpy arrays.\n",
    "# Build the numpy arrays from a subset of the data\n",
    "train_dataset_list = random.sample([d for d in train_dataset], 500)\n",
    "test_dataset_list = random.sample([d for d in test_dataset], 50)\n",
    "num_training_indices = len(train_dataset_list)\n",
    "num_validation_indices = len(test_dataset_list)\n",
    "dataset_list = train_dataset_list + test_dataset_list\n",
    "# Unzip the data set into separate (unlabeled) input data and their labels.\n",
    "my_feature_vectors = np.concatenate([d[0].numpy() for d in dataset_list])  # data only\n",
    "my_labels = np.array([[d[1]] for d in dataset_list])  # each is list of one label only\n",
    "# This dataset is the digits \"0\" through \"9\" which we will enumerate with the\n",
    "# values 0 through 9.\n",
    "num_classes = 10\n",
    "# We have one label per feature_vector so we need a list of one dictionary.\n",
    "my_label_definitions = [{i: {\"description\": repr(i)} for i in range(num_classes)}]\n",
    "# We will indicate the validation examples by their indices.\n",
    "validation_indices = np.array(\n",
    "    range(num_training_indices, num_training_indices + num_validation_indices)\n",
    ")\n",
    "print(f\"feature_shape = {my_feature_vectors.shape[1:]}\")\n",
    "print(\"Dataset is ready as numpy\")\n",
    "\n",
    "# Tell al_bench about the dataset\n",
    "my_dataset_handler = alb.dataset.GenericDatasetHandler()\n",
    "my_dataset_handler.set_all_feature_vectors(my_feature_vectors)\n",
    "my_dataset_handler.set_all_label_definitions(my_label_definitions)\n",
    "my_dataset_handler.set_all_labels(my_labels)\n",
    "my_dataset_handler.set_validation_indices(validation_indices)\n",
    "print(\"DatasetHandler is initialized\")\n",
    "\n",
    "# We'll start the first pass of active learning with some randomly chosen samples\n",
    "# from the training data set.\n",
    "num_initial_training = 20\n",
    "currently_labeled_examples = np.array(\n",
    "    random.sample(range(num_training_indices), num_initial_training)\n",
    ")"
   ]
  },
  {
   "cell_type": "markdown",
   "id": "1665ae47-e23f-461c-9167-4e4443c4fb81",
   "metadata": {},
   "source": [
    "<h2>Create a model and a Model Handler</h2>\n",
    "\n",
    "<p>Here we construct a model that we will train with active learning.  This is nearly verbatim from <a href=\"https://blackhc.github.io/batchbald_redux/example_experiment.html\">https://blackhc.github.io/batchbald_redux/example_experiment.html</a>.  We then wrap the model with a ModelHandler, which allows ALBench to interface the model without, for example, knowing whether it is implemented with PyTorch or TensorFlow.</p>"
   ]
  },
  {
   "cell_type": "markdown",
   "id": "bf1e4959-ffd6-4041-bb0a-98f82cdfd770",
   "metadata": {},
   "source": [
    "<h3>Build a TensorFlow model and its Model Handler</h3>"
   ]
  },
  {
   "cell_type": "code",
   "execution_count": 5,
   "id": "4e914905-f264-4a40-84df-0e692c0c1ecd",
   "metadata": {},
   "outputs": [
    {
     "name": "stdout",
     "output_type": "stream",
     "text": [
      "batchbald_redux does not support tensorflow at this time\n"
     ]
    }
   ],
   "source": [
    "print(\"batchbald_redux does not support tensorflow at this time\")"
   ]
  },
  {
   "cell_type": "markdown",
   "id": "3a077bc0-d613-470a-b33b-a10ce7592727",
   "metadata": {},
   "source": [
    "<h3>Build a Torch model and its Model Handler</h3>"
   ]
  },
  {
   "cell_type": "code",
   "execution_count": 6,
   "id": "60dd5f15-3527-4f9a-8721-92af8732613f",
   "metadata": {},
   "outputs": [
    {
     "name": "stdout",
     "output_type": "stream",
     "text": [
      "Created torch model\n",
      "PyTorch model handler built\n"
     ]
    }
   ],
   "source": [
    "class BayesianCNN(bbald.consistent_mc_dropout.BayesianModule):\n",
    "    def __init__(self, num_classes=10):\n",
    "        super().__init__()\n",
    "\n",
    "        self.conv1 = torch.nn.Conv2d(1, 32, kernel_size=5)\n",
    "        self.conv1_drop = bbald.consistent_mc_dropout.ConsistentMCDropout2d()\n",
    "        self.conv2 = torch.nn.Conv2d(32, 64, kernel_size=5)\n",
    "        self.conv2_drop = bbald.consistent_mc_dropout.ConsistentMCDropout2d()\n",
    "        self.fc1 = torch.nn.Linear(1024, 128)\n",
    "        self.fc1_drop = bbald.consistent_mc_dropout.ConsistentMCDropout()\n",
    "        self.fc2 = torch.nn.Linear(128, num_classes)\n",
    "\n",
    "    def mc_forward_impl(self, input: torch.Tensor):\n",
    "        input = torch.nn.functional.relu(\n",
    "            torch.nn.functional.max_pool2d(self.conv1_drop(self.conv1(input)), 2)\n",
    "        )\n",
    "        input = torch.nn.functional.relu(\n",
    "            torch.nn.functional.max_pool2d(self.conv2_drop(self.conv2(input)), 2)\n",
    "        )\n",
    "        input = input.view(-1, 1024)\n",
    "        input = torch.nn.functional.relu(self.fc1_drop(self.fc1(input)))\n",
    "        input = self.fc2(input)\n",
    "        input = torch.nn.functional.log_softmax(input, dim=1)\n",
    "\n",
    "        return input\n",
    "\n",
    "\n",
    "my_pytorch_model = BayesianCNN(num_classes)\n",
    "print(\"Created torch model\")\n",
    "\n",
    "# Tell al_bench about the model\n",
    "my_pytorch_model_handler = alb.model.SamplingBayesianPyTorchModelHandler()\n",
    "my_pytorch_model_handler.set_model(my_pytorch_model)\n",
    "print(\"PyTorch model handler built\")"
   ]
  },
  {
   "cell_type": "markdown",
   "id": "87fbd678-e488-4b99-912c-7318d5507be1",
   "metadata": {},
   "source": [
    "<h3>Choose one of the models to proceed with</h3>\n",
    "\n",
    "<p>Because we are using a torch model we use the pytorch model handler. A tensorflow model handler is also available, though it is not yet supported by the BatchBALD active learning strategy handler.</p>"
   ]
  },
  {
   "cell_type": "code",
   "execution_count": 7,
   "id": "9304dc37-2936-4b20-9096-2162390943bb",
   "metadata": {},
   "outputs": [],
   "source": [
    "# my_model_handler = my_tensorflow_model_handler\n",
    "my_model_handler = my_pytorch_model_handler"
   ]
  },
  {
   "cell_type": "markdown",
   "id": "6e961066-33aa-4ce6-b13d-91927aa6102e",
   "metadata": {},
   "source": [
    "<h2>Make use of Strategy Handlers for active learning</h2>\n",
    "\n",
    "<p>At this point we have one active learning strategy available for a Bayesian machine learning model, called BatchBALD.  The strategy looks at the unlabeled samples, evaluates them, and then selects the set of samples that is both informative to the model and diverse.</p>\n",
    "\n",
    "<p>See Kirsch A, van Amersfoort J, Gal Y.  BatchBALD: Efficient and Diverse Batch Acquisition for Deep Bayesian Active Learning.  2019 Jun 19.  <a href=\"https://arxiv.org/abs/1906.08158\">arXiv:1906.08158</a> for more information about BatchBALD.</p>"
   ]
  },
  {
   "cell_type": "code",
   "execution_count": 8,
   "id": "7331ecb0-90b8-4b51-b5f1-4c1e1bd855c5",
   "metadata": {},
   "outputs": [
    {
     "name": "stdout",
     "output_type": "stream",
     "text": [
      "=== Begin Strategy 'BatchBALD' at 2023-02-14 13:12:00.214673 ===\n",
      "Training with 20 examples\n",
      "Predicting for 550 examples\n"
     ]
    },
    {
     "data": {
      "application/vnd.jupyter.widget-view+json": {
       "model_id": "1e3f402c3b144476ba9c1218267e0481",
       "version_major": 2,
       "version_minor": 0
      },
      "text/plain": [
       "Conditional Entropy:   0%|          | 0/480 [00:00<?, ?it/s]"
      ]
     },
     "metadata": {},
     "output_type": "display_data"
    },
    {
     "data": {
      "application/vnd.jupyter.widget-view+json": {
       "model_id": "9b9d89db241e4cf4961f636e820030be",
       "version_major": 2,
       "version_minor": 0
      },
      "text/plain": [
       "BatchBALD:   0%|          | 0/10 [00:00<?, ?it/s]"
      ]
     },
     "metadata": {},
     "output_type": "display_data"
    },
    {
     "data": {
      "application/vnd.jupyter.widget-view+json": {
       "model_id": "869d175e46b34454a24e8fd7cdd54065",
       "version_major": 2,
       "version_minor": 0
      },
      "text/plain": [
       "ExactJointEntropy.compute_batch:   0%|          | 0/480 [00:00<?, ?it/s]"
      ]
     },
     "metadata": {},
     "output_type": "display_data"
    },
    {
     "data": {
      "application/vnd.jupyter.widget-view+json": {
       "model_id": "a7539457159442f99f4ef8383ae26ec9",
       "version_major": 2,
       "version_minor": 0
      },
      "text/plain": [
       "ExactJointEntropy.compute_batch:   0%|          | 0/480 [00:00<?, ?it/s]"
      ]
     },
     "metadata": {},
     "output_type": "display_data"
    },
    {
     "data": {
      "application/vnd.jupyter.widget-view+json": {
       "model_id": "a1fa463e3f3d47b2842cb53e8230dfb4",
       "version_major": 2,
       "version_minor": 0
      },
      "text/plain": [
       "ExactJointEntropy.compute_batch:   0%|          | 0/480 [00:00<?, ?it/s]"
      ]
     },
     "metadata": {},
     "output_type": "display_data"
    },
    {
     "data": {
      "application/vnd.jupyter.widget-view+json": {
       "model_id": "0e24e571fef04628909fe4025f7e95a3",
       "version_major": 2,
       "version_minor": 0
      },
      "text/plain": [
       "ExactJointEntropy.compute_batch:   0%|          | 0/480 [00:00<?, ?it/s]"
      ]
     },
     "metadata": {},
     "output_type": "display_data"
    },
    {
     "data": {
      "application/vnd.jupyter.widget-view+json": {
       "model_id": "2aaee15b052d45b7a9328469b9b559d2",
       "version_major": 2,
       "version_minor": 0
      },
      "text/plain": [
       "ExactJointEntropy.compute_batch:   0%|          | 0/480 [00:00<?, ?it/s]"
      ]
     },
     "metadata": {},
     "output_type": "display_data"
    },
    {
     "data": {
      "application/vnd.jupyter.widget-view+json": {
       "model_id": "03239b87553c488993eb8553f42d8ec0",
       "version_major": 2,
       "version_minor": 0
      },
      "text/plain": [
       "ExactJointEntropy.compute_batch:   0%|          | 0/480 [00:00<?, ?it/s]"
      ]
     },
     "metadata": {},
     "output_type": "display_data"
    },
    {
     "data": {
      "application/vnd.jupyter.widget-view+json": {
       "model_id": "97534edfc2b84750b9189cdb9bc9a384",
       "version_major": 2,
       "version_minor": 0
      },
      "text/plain": [
       "SampledJointEntropy.compute_batch:   0%|          | 0/480 [00:00<?, ?it/s]"
      ]
     },
     "metadata": {},
     "output_type": "display_data"
    },
    {
     "data": {
      "application/vnd.jupyter.widget-view+json": {
       "model_id": "7f3b8c0556df4d6fa82d176d058f2aba",
       "version_major": 2,
       "version_minor": 0
      },
      "text/plain": [
       "SampledJointEntropy.compute_batch:   0%|          | 0/480 [00:00<?, ?it/s]"
      ]
     },
     "metadata": {},
     "output_type": "display_data"
    },
    {
     "data": {
      "application/vnd.jupyter.widget-view+json": {
       "model_id": "532c9763692a4d64bb01144ecd016a96",
       "version_major": 2,
       "version_minor": 0
      },
      "text/plain": [
       "SampledJointEntropy.compute_batch:   0%|          | 0/480 [00:00<?, ?it/s]"
      ]
     },
     "metadata": {},
     "output_type": "display_data"
    },
    {
     "data": {
      "application/vnd.jupyter.widget-view+json": {
       "model_id": "02417a0359b943e1940e695dd1d53010",
       "version_major": 2,
       "version_minor": 0
      },
      "text/plain": [
       "SampledJointEntropy.compute_batch:   0%|          | 0/480 [00:00<?, ?it/s]"
      ]
     },
     "metadata": {},
     "output_type": "display_data"
    },
    {
     "name": "stdout",
     "output_type": "stream",
     "text": [
      "Training with 30 examples\n",
      "Predicting for 550 examples\n"
     ]
    },
    {
     "data": {
      "application/vnd.jupyter.widget-view+json": {
       "model_id": "cd4a1fe1adec48b581b280a5b50da0c5",
       "version_major": 2,
       "version_minor": 0
      },
      "text/plain": [
       "Conditional Entropy:   0%|          | 0/470 [00:00<?, ?it/s]"
      ]
     },
     "metadata": {},
     "output_type": "display_data"
    },
    {
     "data": {
      "application/vnd.jupyter.widget-view+json": {
       "model_id": "71790a3733fd48858b2d16584bf5b4c4",
       "version_major": 2,
       "version_minor": 0
      },
      "text/plain": [
       "BatchBALD:   0%|          | 0/10 [00:00<?, ?it/s]"
      ]
     },
     "metadata": {},
     "output_type": "display_data"
    },
    {
     "data": {
      "application/vnd.jupyter.widget-view+json": {
       "model_id": "5518584065214310a3726c4a8d553140",
       "version_major": 2,
       "version_minor": 0
      },
      "text/plain": [
       "ExactJointEntropy.compute_batch:   0%|          | 0/470 [00:00<?, ?it/s]"
      ]
     },
     "metadata": {},
     "output_type": "display_data"
    },
    {
     "data": {
      "application/vnd.jupyter.widget-view+json": {
       "model_id": "6174538a8fee4bcb928e707846a0f067",
       "version_major": 2,
       "version_minor": 0
      },
      "text/plain": [
       "ExactJointEntropy.compute_batch:   0%|          | 0/470 [00:00<?, ?it/s]"
      ]
     },
     "metadata": {},
     "output_type": "display_data"
    },
    {
     "data": {
      "application/vnd.jupyter.widget-view+json": {
       "model_id": "a351db1fc93c447b8c683d5687986b50",
       "version_major": 2,
       "version_minor": 0
      },
      "text/plain": [
       "ExactJointEntropy.compute_batch:   0%|          | 0/470 [00:00<?, ?it/s]"
      ]
     },
     "metadata": {},
     "output_type": "display_data"
    },
    {
     "data": {
      "application/vnd.jupyter.widget-view+json": {
       "model_id": "6595b3f638b5486c85793c7de6200c2f",
       "version_major": 2,
       "version_minor": 0
      },
      "text/plain": [
       "ExactJointEntropy.compute_batch:   0%|          | 0/470 [00:00<?, ?it/s]"
      ]
     },
     "metadata": {},
     "output_type": "display_data"
    },
    {
     "data": {
      "application/vnd.jupyter.widget-view+json": {
       "model_id": "af2c4c4ec8a94b959aa7f6ac64bc7c6c",
       "version_major": 2,
       "version_minor": 0
      },
      "text/plain": [
       "ExactJointEntropy.compute_batch:   0%|          | 0/470 [00:00<?, ?it/s]"
      ]
     },
     "metadata": {},
     "output_type": "display_data"
    },
    {
     "data": {
      "application/vnd.jupyter.widget-view+json": {
       "model_id": "ec3ba677ecb24467a5ea615a0d04675a",
       "version_major": 2,
       "version_minor": 0
      },
      "text/plain": [
       "ExactJointEntropy.compute_batch:   0%|          | 0/470 [00:00<?, ?it/s]"
      ]
     },
     "metadata": {},
     "output_type": "display_data"
    },
    {
     "data": {
      "application/vnd.jupyter.widget-view+json": {
       "model_id": "5b4da1e0a8184451910be1214f73e5a4",
       "version_major": 2,
       "version_minor": 0
      },
      "text/plain": [
       "SampledJointEntropy.compute_batch:   0%|          | 0/470 [00:00<?, ?it/s]"
      ]
     },
     "metadata": {},
     "output_type": "display_data"
    },
    {
     "data": {
      "application/vnd.jupyter.widget-view+json": {
       "model_id": "7e0416f5f34a40ccaba353ed483c7ccd",
       "version_major": 2,
       "version_minor": 0
      },
      "text/plain": [
       "SampledJointEntropy.compute_batch:   0%|          | 0/470 [00:00<?, ?it/s]"
      ]
     },
     "metadata": {},
     "output_type": "display_data"
    },
    {
     "data": {
      "application/vnd.jupyter.widget-view+json": {
       "model_id": "928d5127d95c4426918ed5d9738f6441",
       "version_major": 2,
       "version_minor": 0
      },
      "text/plain": [
       "SampledJointEntropy.compute_batch:   0%|          | 0/470 [00:00<?, ?it/s]"
      ]
     },
     "metadata": {},
     "output_type": "display_data"
    },
    {
     "data": {
      "application/vnd.jupyter.widget-view+json": {
       "model_id": "0a4922a3189d410097658886f16837ef",
       "version_major": 2,
       "version_minor": 0
      },
      "text/plain": [
       "SampledJointEntropy.compute_batch:   0%|          | 0/470 [00:00<?, ?it/s]"
      ]
     },
     "metadata": {},
     "output_type": "display_data"
    },
    {
     "name": "stdout",
     "output_type": "stream",
     "text": [
      "Training with 40 examples\n",
      "Predicting for 550 examples\n"
     ]
    },
    {
     "data": {
      "application/vnd.jupyter.widget-view+json": {
       "model_id": "6e171682474a4d1c886b025dc9d689ac",
       "version_major": 2,
       "version_minor": 0
      },
      "text/plain": [
       "Conditional Entropy:   0%|          | 0/460 [00:00<?, ?it/s]"
      ]
     },
     "metadata": {},
     "output_type": "display_data"
    },
    {
     "data": {
      "application/vnd.jupyter.widget-view+json": {
       "model_id": "678027f6e2014770863278fb0f614efa",
       "version_major": 2,
       "version_minor": 0
      },
      "text/plain": [
       "BatchBALD:   0%|          | 0/10 [00:00<?, ?it/s]"
      ]
     },
     "metadata": {},
     "output_type": "display_data"
    },
    {
     "data": {
      "application/vnd.jupyter.widget-view+json": {
       "model_id": "6043b4197f224f3e9e5ef2d9199186ad",
       "version_major": 2,
       "version_minor": 0
      },
      "text/plain": [
       "ExactJointEntropy.compute_batch:   0%|          | 0/460 [00:00<?, ?it/s]"
      ]
     },
     "metadata": {},
     "output_type": "display_data"
    },
    {
     "data": {
      "application/vnd.jupyter.widget-view+json": {
       "model_id": "44abc4513ecd4a05bb593e28f124c0f3",
       "version_major": 2,
       "version_minor": 0
      },
      "text/plain": [
       "ExactJointEntropy.compute_batch:   0%|          | 0/460 [00:00<?, ?it/s]"
      ]
     },
     "metadata": {},
     "output_type": "display_data"
    },
    {
     "data": {
      "application/vnd.jupyter.widget-view+json": {
       "model_id": "86ee4879f32d44ef9f73f4265309dcbd",
       "version_major": 2,
       "version_minor": 0
      },
      "text/plain": [
       "ExactJointEntropy.compute_batch:   0%|          | 0/460 [00:00<?, ?it/s]"
      ]
     },
     "metadata": {},
     "output_type": "display_data"
    },
    {
     "data": {
      "application/vnd.jupyter.widget-view+json": {
       "model_id": "88752bc2397341b792e3a782aca5a09b",
       "version_major": 2,
       "version_minor": 0
      },
      "text/plain": [
       "ExactJointEntropy.compute_batch:   0%|          | 0/460 [00:00<?, ?it/s]"
      ]
     },
     "metadata": {},
     "output_type": "display_data"
    },
    {
     "data": {
      "application/vnd.jupyter.widget-view+json": {
       "model_id": "ed5f4936cbc3455da3c6c33be12abd42",
       "version_major": 2,
       "version_minor": 0
      },
      "text/plain": [
       "ExactJointEntropy.compute_batch:   0%|          | 0/460 [00:00<?, ?it/s]"
      ]
     },
     "metadata": {},
     "output_type": "display_data"
    },
    {
     "data": {
      "application/vnd.jupyter.widget-view+json": {
       "model_id": "1858df411b5e439585f314e394b972a3",
       "version_major": 2,
       "version_minor": 0
      },
      "text/plain": [
       "ExactJointEntropy.compute_batch:   0%|          | 0/460 [00:00<?, ?it/s]"
      ]
     },
     "metadata": {},
     "output_type": "display_data"
    },
    {
     "data": {
      "application/vnd.jupyter.widget-view+json": {
       "model_id": "0eb9c1439ce841328db6b6aacfaa254b",
       "version_major": 2,
       "version_minor": 0
      },
      "text/plain": [
       "SampledJointEntropy.compute_batch:   0%|          | 0/460 [00:00<?, ?it/s]"
      ]
     },
     "metadata": {},
     "output_type": "display_data"
    },
    {
     "data": {
      "application/vnd.jupyter.widget-view+json": {
       "model_id": "458dcf8298904bad81fb8938ad65d5e3",
       "version_major": 2,
       "version_minor": 0
      },
      "text/plain": [
       "SampledJointEntropy.compute_batch:   0%|          | 0/460 [00:00<?, ?it/s]"
      ]
     },
     "metadata": {},
     "output_type": "display_data"
    },
    {
     "data": {
      "application/vnd.jupyter.widget-view+json": {
       "model_id": "803292b1defb46dcac31b0ef00013968",
       "version_major": 2,
       "version_minor": 0
      },
      "text/plain": [
       "SampledJointEntropy.compute_batch:   0%|          | 0/460 [00:00<?, ?it/s]"
      ]
     },
     "metadata": {},
     "output_type": "display_data"
    },
    {
     "data": {
      "application/vnd.jupyter.widget-view+json": {
       "model_id": "74adddaf8784439e99cf8f2942633751",
       "version_major": 2,
       "version_minor": 0
      },
      "text/plain": [
       "SampledJointEntropy.compute_batch:   0%|          | 0/460 [00:00<?, ?it/s]"
      ]
     },
     "metadata": {},
     "output_type": "display_data"
    },
    {
     "name": "stdout",
     "output_type": "stream",
     "text": [
      "Training with 50 examples\n",
      "Predicting for 550 examples\n"
     ]
    },
    {
     "data": {
      "application/vnd.jupyter.widget-view+json": {
       "model_id": "922428e7dc59468f9122ffcc483e478d",
       "version_major": 2,
       "version_minor": 0
      },
      "text/plain": [
       "Conditional Entropy:   0%|          | 0/450 [00:00<?, ?it/s]"
      ]
     },
     "metadata": {},
     "output_type": "display_data"
    },
    {
     "data": {
      "application/vnd.jupyter.widget-view+json": {
       "model_id": "b1466abf3570474faec07109b2f74adc",
       "version_major": 2,
       "version_minor": 0
      },
      "text/plain": [
       "BatchBALD:   0%|          | 0/10 [00:00<?, ?it/s]"
      ]
     },
     "metadata": {},
     "output_type": "display_data"
    },
    {
     "data": {
      "application/vnd.jupyter.widget-view+json": {
       "model_id": "f70db94a199f44b083c73379e257381e",
       "version_major": 2,
       "version_minor": 0
      },
      "text/plain": [
       "ExactJointEntropy.compute_batch:   0%|          | 0/450 [00:00<?, ?it/s]"
      ]
     },
     "metadata": {},
     "output_type": "display_data"
    },
    {
     "data": {
      "application/vnd.jupyter.widget-view+json": {
       "model_id": "e714c8e5b1f54c4f882bdd6e8d3a224f",
       "version_major": 2,
       "version_minor": 0
      },
      "text/plain": [
       "ExactJointEntropy.compute_batch:   0%|          | 0/450 [00:00<?, ?it/s]"
      ]
     },
     "metadata": {},
     "output_type": "display_data"
    },
    {
     "data": {
      "application/vnd.jupyter.widget-view+json": {
       "model_id": "d8b911d4b5574e19a4ed4d4344a0ff5a",
       "version_major": 2,
       "version_minor": 0
      },
      "text/plain": [
       "ExactJointEntropy.compute_batch:   0%|          | 0/450 [00:00<?, ?it/s]"
      ]
     },
     "metadata": {},
     "output_type": "display_data"
    },
    {
     "data": {
      "application/vnd.jupyter.widget-view+json": {
       "model_id": "60a9f0c297e24b23889b46f23e7a8a9e",
       "version_major": 2,
       "version_minor": 0
      },
      "text/plain": [
       "ExactJointEntropy.compute_batch:   0%|          | 0/450 [00:00<?, ?it/s]"
      ]
     },
     "metadata": {},
     "output_type": "display_data"
    },
    {
     "data": {
      "application/vnd.jupyter.widget-view+json": {
       "model_id": "f81d8fe5a96e4a4ebb6f764eb867a829",
       "version_major": 2,
       "version_minor": 0
      },
      "text/plain": [
       "ExactJointEntropy.compute_batch:   0%|          | 0/450 [00:00<?, ?it/s]"
      ]
     },
     "metadata": {},
     "output_type": "display_data"
    },
    {
     "data": {
      "application/vnd.jupyter.widget-view+json": {
       "model_id": "4cdb4d87dd8a43e0a766f62bacf04914",
       "version_major": 2,
       "version_minor": 0
      },
      "text/plain": [
       "ExactJointEntropy.compute_batch:   0%|          | 0/450 [00:00<?, ?it/s]"
      ]
     },
     "metadata": {},
     "output_type": "display_data"
    },
    {
     "data": {
      "application/vnd.jupyter.widget-view+json": {
       "model_id": "588853a6fe3d41a8aa17652cb2b807cc",
       "version_major": 2,
       "version_minor": 0
      },
      "text/plain": [
       "SampledJointEntropy.compute_batch:   0%|          | 0/450 [00:00<?, ?it/s]"
      ]
     },
     "metadata": {},
     "output_type": "display_data"
    },
    {
     "data": {
      "application/vnd.jupyter.widget-view+json": {
       "model_id": "9d2de88ac51a4435ab1d27d6cf6d9040",
       "version_major": 2,
       "version_minor": 0
      },
      "text/plain": [
       "SampledJointEntropy.compute_batch:   0%|          | 0/450 [00:00<?, ?it/s]"
      ]
     },
     "metadata": {},
     "output_type": "display_data"
    },
    {
     "data": {
      "application/vnd.jupyter.widget-view+json": {
       "model_id": "2339c81d686e45f895bd36480c5e3a40",
       "version_major": 2,
       "version_minor": 0
      },
      "text/plain": [
       "SampledJointEntropy.compute_batch:   0%|          | 0/450 [00:00<?, ?it/s]"
      ]
     },
     "metadata": {},
     "output_type": "display_data"
    },
    {
     "data": {
      "application/vnd.jupyter.widget-view+json": {
       "model_id": "2f0501e47b8e4d67b6fd8b9b27cbf3cd",
       "version_major": 2,
       "version_minor": 0
      },
      "text/plain": [
       "SampledJointEntropy.compute_batch:   0%|          | 0/450 [00:00<?, ?it/s]"
      ]
     },
     "metadata": {},
     "output_type": "display_data"
    },
    {
     "name": "stdout",
     "output_type": "stream",
     "text": [
      "Training with 60 examples\n",
      "Predicting for 550 examples\n"
     ]
    },
    {
     "data": {
      "application/vnd.jupyter.widget-view+json": {
       "model_id": "4b4ac3d2e98d4833ac0a21929c90c6ec",
       "version_major": 2,
       "version_minor": 0
      },
      "text/plain": [
       "Conditional Entropy:   0%|          | 0/440 [00:00<?, ?it/s]"
      ]
     },
     "metadata": {},
     "output_type": "display_data"
    },
    {
     "data": {
      "application/vnd.jupyter.widget-view+json": {
       "model_id": "0af5ef77546545149007ed179078ae5f",
       "version_major": 2,
       "version_minor": 0
      },
      "text/plain": [
       "BatchBALD:   0%|          | 0/10 [00:00<?, ?it/s]"
      ]
     },
     "metadata": {},
     "output_type": "display_data"
    },
    {
     "data": {
      "application/vnd.jupyter.widget-view+json": {
       "model_id": "144c969b547a4c7d9974dc8fe95f5e3e",
       "version_major": 2,
       "version_minor": 0
      },
      "text/plain": [
       "ExactJointEntropy.compute_batch:   0%|          | 0/440 [00:00<?, ?it/s]"
      ]
     },
     "metadata": {},
     "output_type": "display_data"
    },
    {
     "data": {
      "application/vnd.jupyter.widget-view+json": {
       "model_id": "df9005762e6348ab9977e695383c801a",
       "version_major": 2,
       "version_minor": 0
      },
      "text/plain": [
       "ExactJointEntropy.compute_batch:   0%|          | 0/440 [00:00<?, ?it/s]"
      ]
     },
     "metadata": {},
     "output_type": "display_data"
    },
    {
     "data": {
      "application/vnd.jupyter.widget-view+json": {
       "model_id": "6c1bdb9a1b8242ac894846cf4c70e40e",
       "version_major": 2,
       "version_minor": 0
      },
      "text/plain": [
       "ExactJointEntropy.compute_batch:   0%|          | 0/440 [00:00<?, ?it/s]"
      ]
     },
     "metadata": {},
     "output_type": "display_data"
    },
    {
     "data": {
      "application/vnd.jupyter.widget-view+json": {
       "model_id": "7e50a51f350646569d91cf4baa08faa5",
       "version_major": 2,
       "version_minor": 0
      },
      "text/plain": [
       "ExactJointEntropy.compute_batch:   0%|          | 0/440 [00:00<?, ?it/s]"
      ]
     },
     "metadata": {},
     "output_type": "display_data"
    },
    {
     "data": {
      "application/vnd.jupyter.widget-view+json": {
       "model_id": "da1ad1784b4a423db2b877527f37b99e",
       "version_major": 2,
       "version_minor": 0
      },
      "text/plain": [
       "ExactJointEntropy.compute_batch:   0%|          | 0/440 [00:00<?, ?it/s]"
      ]
     },
     "metadata": {},
     "output_type": "display_data"
    },
    {
     "data": {
      "application/vnd.jupyter.widget-view+json": {
       "model_id": "89827a2ebec04498a16187dce6e85b62",
       "version_major": 2,
       "version_minor": 0
      },
      "text/plain": [
       "ExactJointEntropy.compute_batch:   0%|          | 0/440 [00:00<?, ?it/s]"
      ]
     },
     "metadata": {},
     "output_type": "display_data"
    },
    {
     "data": {
      "application/vnd.jupyter.widget-view+json": {
       "model_id": "68a142785c58456a883c6513fbb8549c",
       "version_major": 2,
       "version_minor": 0
      },
      "text/plain": [
       "SampledJointEntropy.compute_batch:   0%|          | 0/440 [00:00<?, ?it/s]"
      ]
     },
     "metadata": {},
     "output_type": "display_data"
    },
    {
     "data": {
      "application/vnd.jupyter.widget-view+json": {
       "model_id": "432119c524c34e17abfdc4cb69964682",
       "version_major": 2,
       "version_minor": 0
      },
      "text/plain": [
       "SampledJointEntropy.compute_batch:   0%|          | 0/440 [00:00<?, ?it/s]"
      ]
     },
     "metadata": {},
     "output_type": "display_data"
    },
    {
     "data": {
      "application/vnd.jupyter.widget-view+json": {
       "model_id": "c45029d93a5b4caeb92b61151d936c69",
       "version_major": 2,
       "version_minor": 0
      },
      "text/plain": [
       "SampledJointEntropy.compute_batch:   0%|          | 0/440 [00:00<?, ?it/s]"
      ]
     },
     "metadata": {},
     "output_type": "display_data"
    },
    {
     "data": {
      "application/vnd.jupyter.widget-view+json": {
       "model_id": "a44a76dcb6de43cc8fbbad031c424fa4",
       "version_major": 2,
       "version_minor": 0
      },
      "text/plain": [
       "SampledJointEntropy.compute_batch:   0%|          | 0/440 [00:00<?, ?it/s]"
      ]
     },
     "metadata": {},
     "output_type": "display_data"
    },
    {
     "name": "stdout",
     "output_type": "stream",
     "text": [
      "Training with 70 examples\n",
      "Predicting for 550 examples\n"
     ]
    },
    {
     "data": {
      "application/vnd.jupyter.widget-view+json": {
       "model_id": "e2b2cb5f199c483d960e5904e8c4f9b5",
       "version_major": 2,
       "version_minor": 0
      },
      "text/plain": [
       "Conditional Entropy:   0%|          | 0/430 [00:00<?, ?it/s]"
      ]
     },
     "metadata": {},
     "output_type": "display_data"
    },
    {
     "data": {
      "application/vnd.jupyter.widget-view+json": {
       "model_id": "678cd9eef885436e943dfd3c93ae70d9",
       "version_major": 2,
       "version_minor": 0
      },
      "text/plain": [
       "BatchBALD:   0%|          | 0/10 [00:00<?, ?it/s]"
      ]
     },
     "metadata": {},
     "output_type": "display_data"
    },
    {
     "data": {
      "application/vnd.jupyter.widget-view+json": {
       "model_id": "a57f210eb2394a8797d1362233669063",
       "version_major": 2,
       "version_minor": 0
      },
      "text/plain": [
       "ExactJointEntropy.compute_batch:   0%|          | 0/430 [00:00<?, ?it/s]"
      ]
     },
     "metadata": {},
     "output_type": "display_data"
    },
    {
     "data": {
      "application/vnd.jupyter.widget-view+json": {
       "model_id": "3b1ec499b81a4970978494a8ce1f43aa",
       "version_major": 2,
       "version_minor": 0
      },
      "text/plain": [
       "ExactJointEntropy.compute_batch:   0%|          | 0/430 [00:00<?, ?it/s]"
      ]
     },
     "metadata": {},
     "output_type": "display_data"
    },
    {
     "data": {
      "application/vnd.jupyter.widget-view+json": {
       "model_id": "d8bb5d606a4b48ed976f02bb5f83a6a4",
       "version_major": 2,
       "version_minor": 0
      },
      "text/plain": [
       "ExactJointEntropy.compute_batch:   0%|          | 0/430 [00:00<?, ?it/s]"
      ]
     },
     "metadata": {},
     "output_type": "display_data"
    },
    {
     "data": {
      "application/vnd.jupyter.widget-view+json": {
       "model_id": "2d204dbd426343ba82f44bce22500837",
       "version_major": 2,
       "version_minor": 0
      },
      "text/plain": [
       "ExactJointEntropy.compute_batch:   0%|          | 0/430 [00:00<?, ?it/s]"
      ]
     },
     "metadata": {},
     "output_type": "display_data"
    },
    {
     "data": {
      "application/vnd.jupyter.widget-view+json": {
       "model_id": "fec61744e651461e8d7992343191aef3",
       "version_major": 2,
       "version_minor": 0
      },
      "text/plain": [
       "ExactJointEntropy.compute_batch:   0%|          | 0/430 [00:00<?, ?it/s]"
      ]
     },
     "metadata": {},
     "output_type": "display_data"
    },
    {
     "data": {
      "application/vnd.jupyter.widget-view+json": {
       "model_id": "c9f81da0dddf49e3aab6324cd6f085db",
       "version_major": 2,
       "version_minor": 0
      },
      "text/plain": [
       "ExactJointEntropy.compute_batch:   0%|          | 0/430 [00:00<?, ?it/s]"
      ]
     },
     "metadata": {},
     "output_type": "display_data"
    },
    {
     "data": {
      "application/vnd.jupyter.widget-view+json": {
       "model_id": "14a3f1db880a47d4ba8012b168b8406b",
       "version_major": 2,
       "version_minor": 0
      },
      "text/plain": [
       "SampledJointEntropy.compute_batch:   0%|          | 0/430 [00:00<?, ?it/s]"
      ]
     },
     "metadata": {},
     "output_type": "display_data"
    },
    {
     "data": {
      "application/vnd.jupyter.widget-view+json": {
       "model_id": "0b733b48ba01453ebf213eb97f76ef5c",
       "version_major": 2,
       "version_minor": 0
      },
      "text/plain": [
       "SampledJointEntropy.compute_batch:   0%|          | 0/430 [00:00<?, ?it/s]"
      ]
     },
     "metadata": {},
     "output_type": "display_data"
    },
    {
     "data": {
      "application/vnd.jupyter.widget-view+json": {
       "model_id": "304fe00b18a2442ba5973e2a285f5448",
       "version_major": 2,
       "version_minor": 0
      },
      "text/plain": [
       "SampledJointEntropy.compute_batch:   0%|          | 0/430 [00:00<?, ?it/s]"
      ]
     },
     "metadata": {},
     "output_type": "display_data"
    },
    {
     "data": {
      "application/vnd.jupyter.widget-view+json": {
       "model_id": "f8b4f0d6970644aa8ff15009b66b7b94",
       "version_major": 2,
       "version_minor": 0
      },
      "text/plain": [
       "SampledJointEntropy.compute_batch:   0%|          | 0/430 [00:00<?, ?it/s]"
      ]
     },
     "metadata": {},
     "output_type": "display_data"
    },
    {
     "name": "stdout",
     "output_type": "stream",
     "text": [
      "Training with 80 examples\n",
      "Predicting for 550 examples\n"
     ]
    },
    {
     "data": {
      "application/vnd.jupyter.widget-view+json": {
       "model_id": "c46db32239254fde8c8a9633ab8b5023",
       "version_major": 2,
       "version_minor": 0
      },
      "text/plain": [
       "Conditional Entropy:   0%|          | 0/420 [00:00<?, ?it/s]"
      ]
     },
     "metadata": {},
     "output_type": "display_data"
    },
    {
     "data": {
      "application/vnd.jupyter.widget-view+json": {
       "model_id": "b7ece2af8ae94fbb9cbc672862252b4d",
       "version_major": 2,
       "version_minor": 0
      },
      "text/plain": [
       "BatchBALD:   0%|          | 0/10 [00:00<?, ?it/s]"
      ]
     },
     "metadata": {},
     "output_type": "display_data"
    },
    {
     "data": {
      "application/vnd.jupyter.widget-view+json": {
       "model_id": "3ea6456cc5e64daeb629d02774ddcfc9",
       "version_major": 2,
       "version_minor": 0
      },
      "text/plain": [
       "ExactJointEntropy.compute_batch:   0%|          | 0/420 [00:00<?, ?it/s]"
      ]
     },
     "metadata": {},
     "output_type": "display_data"
    },
    {
     "data": {
      "application/vnd.jupyter.widget-view+json": {
       "model_id": "29c8f8e038c44e04ba310e2e7fa41f4f",
       "version_major": 2,
       "version_minor": 0
      },
      "text/plain": [
       "ExactJointEntropy.compute_batch:   0%|          | 0/420 [00:00<?, ?it/s]"
      ]
     },
     "metadata": {},
     "output_type": "display_data"
    },
    {
     "data": {
      "application/vnd.jupyter.widget-view+json": {
       "model_id": "03270c40ede448ad914aee0dfad4ca8c",
       "version_major": 2,
       "version_minor": 0
      },
      "text/plain": [
       "ExactJointEntropy.compute_batch:   0%|          | 0/420 [00:00<?, ?it/s]"
      ]
     },
     "metadata": {},
     "output_type": "display_data"
    },
    {
     "data": {
      "application/vnd.jupyter.widget-view+json": {
       "model_id": "fa8ea84d2f3a4f17924a03eba5169f07",
       "version_major": 2,
       "version_minor": 0
      },
      "text/plain": [
       "ExactJointEntropy.compute_batch:   0%|          | 0/420 [00:00<?, ?it/s]"
      ]
     },
     "metadata": {},
     "output_type": "display_data"
    },
    {
     "data": {
      "application/vnd.jupyter.widget-view+json": {
       "model_id": "44a88af820ed4a24a7ee99825f9a3936",
       "version_major": 2,
       "version_minor": 0
      },
      "text/plain": [
       "ExactJointEntropy.compute_batch:   0%|          | 0/420 [00:00<?, ?it/s]"
      ]
     },
     "metadata": {},
     "output_type": "display_data"
    },
    {
     "data": {
      "application/vnd.jupyter.widget-view+json": {
       "model_id": "623ec5151d8b4bff821eeb39646def37",
       "version_major": 2,
       "version_minor": 0
      },
      "text/plain": [
       "ExactJointEntropy.compute_batch:   0%|          | 0/420 [00:00<?, ?it/s]"
      ]
     },
     "metadata": {},
     "output_type": "display_data"
    },
    {
     "data": {
      "application/vnd.jupyter.widget-view+json": {
       "model_id": "e537fca6fb7f41c99c32671911f9a52e",
       "version_major": 2,
       "version_minor": 0
      },
      "text/plain": [
       "SampledJointEntropy.compute_batch:   0%|          | 0/420 [00:00<?, ?it/s]"
      ]
     },
     "metadata": {},
     "output_type": "display_data"
    },
    {
     "data": {
      "application/vnd.jupyter.widget-view+json": {
       "model_id": "2d9f961a5b604092bbe7d29d7e9eb1e1",
       "version_major": 2,
       "version_minor": 0
      },
      "text/plain": [
       "SampledJointEntropy.compute_batch:   0%|          | 0/420 [00:00<?, ?it/s]"
      ]
     },
     "metadata": {},
     "output_type": "display_data"
    },
    {
     "data": {
      "application/vnd.jupyter.widget-view+json": {
       "model_id": "8abeeee98542488a93bbb18ba5e058c9",
       "version_major": 2,
       "version_minor": 0
      },
      "text/plain": [
       "SampledJointEntropy.compute_batch:   0%|          | 0/420 [00:00<?, ?it/s]"
      ]
     },
     "metadata": {},
     "output_type": "display_data"
    },
    {
     "data": {
      "application/vnd.jupyter.widget-view+json": {
       "model_id": "9d4e9d9545814799bfb5871152b69c93",
       "version_major": 2,
       "version_minor": 0
      },
      "text/plain": [
       "SampledJointEntropy.compute_batch:   0%|          | 0/420 [00:00<?, ?it/s]"
      ]
     },
     "metadata": {},
     "output_type": "display_data"
    },
    {
     "name": "stdout",
     "output_type": "stream",
     "text": [
      "Training with 90 examples\n",
      "Predicting for 550 examples\n"
     ]
    },
    {
     "data": {
      "application/vnd.jupyter.widget-view+json": {
       "model_id": "bf62714c6eb5479da5a86410564581c4",
       "version_major": 2,
       "version_minor": 0
      },
      "text/plain": [
       "Conditional Entropy:   0%|          | 0/410 [00:00<?, ?it/s]"
      ]
     },
     "metadata": {},
     "output_type": "display_data"
    },
    {
     "data": {
      "application/vnd.jupyter.widget-view+json": {
       "model_id": "7dbf2d645c6a4a6ca9cb761089a9f0e6",
       "version_major": 2,
       "version_minor": 0
      },
      "text/plain": [
       "BatchBALD:   0%|          | 0/10 [00:00<?, ?it/s]"
      ]
     },
     "metadata": {},
     "output_type": "display_data"
    },
    {
     "data": {
      "application/vnd.jupyter.widget-view+json": {
       "model_id": "3024b4f7bf6e4c1f9bb12ff2f88e8c45",
       "version_major": 2,
       "version_minor": 0
      },
      "text/plain": [
       "ExactJointEntropy.compute_batch:   0%|          | 0/410 [00:00<?, ?it/s]"
      ]
     },
     "metadata": {},
     "output_type": "display_data"
    },
    {
     "data": {
      "application/vnd.jupyter.widget-view+json": {
       "model_id": "a84d9b46ec2844e8a24a4b62424acefe",
       "version_major": 2,
       "version_minor": 0
      },
      "text/plain": [
       "ExactJointEntropy.compute_batch:   0%|          | 0/410 [00:00<?, ?it/s]"
      ]
     },
     "metadata": {},
     "output_type": "display_data"
    },
    {
     "data": {
      "application/vnd.jupyter.widget-view+json": {
       "model_id": "e8193a6df572433bbbb79dafbccb93fb",
       "version_major": 2,
       "version_minor": 0
      },
      "text/plain": [
       "ExactJointEntropy.compute_batch:   0%|          | 0/410 [00:00<?, ?it/s]"
      ]
     },
     "metadata": {},
     "output_type": "display_data"
    },
    {
     "data": {
      "application/vnd.jupyter.widget-view+json": {
       "model_id": "b7c4693890234d73aaad577f2a8dac7c",
       "version_major": 2,
       "version_minor": 0
      },
      "text/plain": [
       "ExactJointEntropy.compute_batch:   0%|          | 0/410 [00:00<?, ?it/s]"
      ]
     },
     "metadata": {},
     "output_type": "display_data"
    },
    {
     "data": {
      "application/vnd.jupyter.widget-view+json": {
       "model_id": "b9281864fbc5451a8a99fa6bcb83eef0",
       "version_major": 2,
       "version_minor": 0
      },
      "text/plain": [
       "ExactJointEntropy.compute_batch:   0%|          | 0/410 [00:00<?, ?it/s]"
      ]
     },
     "metadata": {},
     "output_type": "display_data"
    },
    {
     "data": {
      "application/vnd.jupyter.widget-view+json": {
       "model_id": "840b9cb29cd444d1a3bc01ad282286ba",
       "version_major": 2,
       "version_minor": 0
      },
      "text/plain": [
       "ExactJointEntropy.compute_batch:   0%|          | 0/410 [00:00<?, ?it/s]"
      ]
     },
     "metadata": {},
     "output_type": "display_data"
    },
    {
     "data": {
      "application/vnd.jupyter.widget-view+json": {
       "model_id": "e7ae260f87fc4bc8b2d67eb6f48f84c7",
       "version_major": 2,
       "version_minor": 0
      },
      "text/plain": [
       "SampledJointEntropy.compute_batch:   0%|          | 0/410 [00:00<?, ?it/s]"
      ]
     },
     "metadata": {},
     "output_type": "display_data"
    },
    {
     "data": {
      "application/vnd.jupyter.widget-view+json": {
       "model_id": "b7b839c748a34850a86734e542e6ea66",
       "version_major": 2,
       "version_minor": 0
      },
      "text/plain": [
       "SampledJointEntropy.compute_batch:   0%|          | 0/410 [00:00<?, ?it/s]"
      ]
     },
     "metadata": {},
     "output_type": "display_data"
    },
    {
     "data": {
      "application/vnd.jupyter.widget-view+json": {
       "model_id": "f3806eda3ce44a52b16ee63fae607099",
       "version_major": 2,
       "version_minor": 0
      },
      "text/plain": [
       "SampledJointEntropy.compute_batch:   0%|          | 0/410 [00:00<?, ?it/s]"
      ]
     },
     "metadata": {},
     "output_type": "display_data"
    },
    {
     "data": {
      "application/vnd.jupyter.widget-view+json": {
       "model_id": "000aa155c33747f3997d754f984f1249",
       "version_major": 2,
       "version_minor": 0
      },
      "text/plain": [
       "SampledJointEntropy.compute_batch:   0%|          | 0/410 [00:00<?, ?it/s]"
      ]
     },
     "metadata": {},
     "output_type": "display_data"
    },
    {
     "name": "stdout",
     "output_type": "stream",
     "text": [
      "Training with 100 examples\n",
      "Predicting for 550 examples\n",
      "=== Done at 2023-02-14 13:16:29.741010 ===\n"
     ]
    }
   ],
   "source": [
    "all_logs_dir = \"runs-SamplingBayesian\"\n",
    "try:\n",
    "    shutil.rmtree(all_logs_dir)  # DELETE OLD LOG FILES\n",
    "except:\n",
    "    pass\n",
    "\n",
    "for name, my_strategy_handler in (\n",
    "    #   (\"BALD\", alb.strategy.BaldStrategyHandler()),\n",
    "    (\"BatchBALD\", alb.strategy.BatchBALDStrategyHandler()),\n",
    "):\n",
    "    print(f\"=== Begin Strategy {repr(name)} at {datetime.now()} ===\")\n",
    "    my_strategy_handler.set_dataset_handler(my_dataset_handler)\n",
    "    my_strategy_handler.set_model_handler(my_model_handler)\n",
    "    # We've supplied only one label per feature vector, so choose it with\n",
    "    # label_of_interest=0\n",
    "    my_strategy_handler.set_learning_parameters(\n",
    "        label_of_interest=0, maximum_queries=8, number_to_select_per_query=10\n",
    "    )\n",
    "\n",
    "    # ################################################################\n",
    "    # Simulate the strategy.\n",
    "    my_strategy_handler.run(currently_labeled_examples)\n",
    "    # ################################################################\n",
    "\n",
    "    # We will write out collected information to disk.  First say where:\n",
    "    log_dir = os.path.join(all_logs_dir, name)\n",
    "    # Write accuracy and loss information during training\n",
    "    my_strategy_handler.write_train_log_for_tensorboard(log_dir=log_dir)\n",
    "    # Write certainty statistics during active learning\n",
    "    my_strategy_handler.write_certainty_log_for_tensorboard(log_dir=log_dir)\n",
    "print(f\"=== Done at {datetime.now()} ===\")"
   ]
  },
  {
   "cell_type": "markdown",
   "id": "5e7135fa-8548-4162-a55c-32716ffe81f7",
   "metadata": {},
   "source": [
    "<h2>Use with TensorBoard</h2>\n",
    "\n",
    "<p>ALBench can work with TensorBoard to display information from experiment log files.  If it is not blocked by a firewall, the TensorBoard graphics will appear in this Jupyter lab.  Otherwise, the TensorBoard output can be made to appear in any web browser by launching \"<code>tensorboard --logdir runs-SamplingBayesian</code>\" from a command prompt and then asking the web browser to load \"<code>http://localhost:6006/</code>\".</p>\n",
    "\n",
    "<p>Because these are randomized simulations you will not see the same output each time you run them.  Clicking on the \"Scalars\" tab allows one to change the smoothing of the displayed graphics, e.g., to 0.</p>\n",
    "\n",
    "<p>The Certainty graphs show how the certainty, among samples that are (simulated as) not yet labeled, changes during the active learning process; specifically, as a function of the number of samples that have been labeled so far.  For example, Certainty/margin/10% measures certainty for a sample's prediction as the difference between the two highest-scoring lablels, and the 10% indicates that this is the 10 percentile among all unlabeled samples -- which is among the worst performing of these samples.  Certainty/negative_entropy/50% shows the median value among unlabeled samples of the negative entropy.  Certainty/confidence/5% shows the 5 percentile value -- among the very worst -- for a sample's maximum label score, which is the score for its predicted label.</p>"
   ]
  },
  {
   "cell_type": "code",
   "execution_count": 9,
   "id": "b2b2589a-a665-4124-809a-d04cd114b71c",
   "metadata": {},
   "outputs": [
    {
     "data": {
      "text/html": [
       "\n",
       "      <iframe id=\"tensorboard-frame-7a8d8c65750c123c\" width=\"100%\" height=\"800\" frameborder=\"0\">\n",
       "      </iframe>\n",
       "      <script>\n",
       "        (function() {\n",
       "          const frame = document.getElementById(\"tensorboard-frame-7a8d8c65750c123c\");\n",
       "          const url = new URL(\"/\", window.location);\n",
       "          const port = 6006;\n",
       "          if (port) {\n",
       "            url.port = port;\n",
       "          }\n",
       "          frame.src = url;\n",
       "        })();\n",
       "      </script>\n",
       "    "
      ],
      "text/plain": [
       "<IPython.core.display.HTML object>"
      ]
     },
     "metadata": {},
     "output_type": "display_data"
    }
   ],
   "source": [
    "%load_ext tensorboard\n",
    "%tensorboard --logdir {all_logs_dir}"
   ]
  }
 ],
 "metadata": {
  "kernelspec": {
   "display_name": "al_bench",
   "language": "python",
   "name": "al_bench"
  },
  "language_info": {
   "codemirror_mode": {
    "name": "ipython",
    "version": 3
   },
   "file_extension": ".py",
   "mimetype": "text/x-python",
   "name": "python",
   "nbconvert_exporter": "python",
   "pygments_lexer": "ipython3",
   "version": "3.8.10"
  }
 },
 "nbformat": 4,
 "nbformat_minor": 5
}
