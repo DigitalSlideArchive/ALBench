{
 "cells": [
  {
   "cell_type": "markdown",
   "id": "f297f83e-bf29-480c-9573-0631e2ba66cb",
   "metadata": {},
   "source": [
    "<h1>ALBench project: BatchBALD</h1>\n",
    "\n",
    "<p>This Jupyter lab demonstrates use of the al_bench Active Learning Benchmark Tool with a Bayesian Neural Network and BatchBALD</p>"
   ]
  },
  {
   "cell_type": "markdown",
   "id": "c41732a2-e631-4af0-a79d-e943fb2dfa7c",
   "metadata": {},
   "source": [
    "<h2>Install needed Python packages</h2>\n",
    "\n",
    "<p>If you haven't yet installed these packages, remove the \"<code>#</code>\" characters and run this code block.</p>"
   ]
  },
  {
   "cell_type": "code",
   "execution_count": 1,
   "id": "1577f63f-af6e-413e-97b2-ce820b2b7ca5",
   "metadata": {},
   "outputs": [],
   "source": [
    "#!pip install -e ../../ALBench  # Installs al_bench and dependencies\n",
    "#!pip install ipywidgets\n",
    "#!jupyter labextension install @jupyter-widgets/jupyterlab-manager"
   ]
  },
  {
   "cell_type": "code",
   "execution_count": 2,
   "id": "49bcd43c-a49c-4abc-a4b6-fa1254845f97",
   "metadata": {},
   "outputs": [
    {
     "name": "stderr",
     "output_type": "stream",
     "text": [
      "2023-02-08 14:51:13.189306: I tensorflow/core/platform/cpu_feature_guard.cc:193] This TensorFlow binary is optimized with oneAPI Deep Neural Network Library (oneDNN) to use the following CPU instructions in performance-critical operations:  AVX2 AVX512F AVX512_VNNI FMA\n",
      "To enable them in other operations, rebuild TensorFlow with the appropriate compiler flags.\n",
      "2023-02-08 14:51:13.344750: I tensorflow/core/util/util.cc:169] oneDNN custom operations are on. You may see slightly different numerical results due to floating-point round-off errors from different computation orders. To turn them off, set the environment variable `TF_ENABLE_ONEDNN_OPTS=0`.\n",
      "2023-02-08 14:51:13.381142: E tensorflow/stream_executor/cuda/cuda_blas.cc:2981] Unable to register cuBLAS factory: Attempting to register factory for plugin cuBLAS when one has already been registered\n",
      "2023-02-08 14:51:13.977481: W tensorflow/stream_executor/platform/default/dso_loader.cc:64] Could not load dynamic library 'libnvinfer.so.7'; dlerror: libnvinfer.so.7: cannot open shared object file: No such file or directory; LD_LIBRARY_PATH: :/usr/local/cuda/lib64:/home/lee.newberg/Support/dakota-6.13.0.src-install/lib\n",
      "2023-02-08 14:51:13.977577: W tensorflow/stream_executor/platform/default/dso_loader.cc:64] Could not load dynamic library 'libnvinfer_plugin.so.7'; dlerror: libnvinfer_plugin.so.7: cannot open shared object file: No such file or directory; LD_LIBRARY_PATH: :/usr/local/cuda/lib64:/home/lee.newberg/Support/dakota-6.13.0.src-install/lib\n",
      "2023-02-08 14:51:13.977585: W tensorflow/compiler/tf2tensorrt/utils/py_utils.cc:38] TF-TRT Warning: Cannot dlopen some TensorRT libraries. If you would like to use Nvidia GPU with TensorRT, please make sure the missing libraries mentioned above are installed properly.\n"
     ]
    }
   ],
   "source": [
    "import al_bench as alb\n",
    "import batchbald_redux as bbald\n",
    "import batchbald_redux.active_learning\n",
    "import batchbald_redux.consistent_mc_dropout\n",
    "import batchbald_redux.repeated_mnist\n",
    "import numpy as np\n",
    "import os\n",
    "import random\n",
    "import shutil\n",
    "import torch\n",
    "from datetime import datetime"
   ]
  },
  {
   "cell_type": "markdown",
   "id": "a439f464-a0b3-4fb3-8ca6-c83415f25403",
   "metadata": {},
   "source": [
    "<h2>Overview</h2>\n",
    "\n",
    "<p>Write me</p>"
   ]
  },
  {
   "cell_type": "markdown",
   "id": "6fd7e1bd-8315-413d-b3ee-2d38e0777819",
   "metadata": {},
   "source": [
    "<h2>Find a dataset and create a Dataset Handler</h2>\n",
    "\n",
    "<p>Write me</p>"
   ]
  },
  {
   "cell_type": "code",
   "execution_count": 3,
   "id": "2cbbb249-3729-4469-811a-0127fe5674e2",
   "metadata": {},
   "outputs": [
    {
     "name": "stdout",
     "output_type": "stream",
     "text": [
      "Dataset is read\n"
     ]
    }
   ],
   "source": [
    "mnist = bbald.repeated_mnist.create_repeated_MNIST_dataset(\n",
    "    num_repetitions=1, add_noise=False\n",
    ")\n",
    "train_dataset, test_dataset = mnist\n",
    "\n",
    "print(\"Dataset is read\")"
   ]
  },
  {
   "cell_type": "code",
   "execution_count": 4,
   "id": "702f13ec-9b1d-446b-ae08-944aae519375",
   "metadata": {},
   "outputs": [
    {
     "name": "stdout",
     "output_type": "stream",
     "text": [
      "Dataset is converted to numpy\n",
      "Datahandler is initialized\n"
     ]
    }
   ],
   "source": [
    "# al_bench datasets are supplied as numpy arrays.\n",
    "# Build the numpy arrays from a subset of the data\n",
    "train_dataset_list = [d for d in train_dataset]\n",
    "test_dataset_list = [d for d in test_dataset]\n",
    "train_dataset_list = random.sample(train_dataset_list, 500)\n",
    "test_dataset_list = random.sample(test_dataset_list, 50)\n",
    "number_of_training_indices = len(train_dataset_list)\n",
    "number_of_validation_indices = len(test_dataset_list)\n",
    "dataset_list = train_dataset_list + test_dataset_list\n",
    "my_feature_vectors = np.concatenate([d[0].numpy() for d in dataset_list])  # data only\n",
    "my_labels = np.array([[d[1]] for d in dataset_list])  # labels only\n",
    "# This dataset is the digits \"0\" through \"9\" which will be enumerated with the\n",
    "# values 0 through 9.\n",
    "num_classes = 10\n",
    "my_label_definitions = [{i: {\"description\": repr(i)} for i in range(num_classes)}]\n",
    "print(\"Dataset is converted to numpy\")\n",
    "\n",
    "# Tell al_bench about the dataset\n",
    "my_dataset_handler = alb.dataset.GenericDatasetHandler()\n",
    "my_dataset_handler.set_all_feature_vectors(my_feature_vectors)\n",
    "my_dataset_handler.set_all_label_definitions(my_label_definitions)\n",
    "my_dataset_handler.set_all_labels(my_labels)\n",
    "\n",
    "# Set aside disjoint sets of examples for use in validation and as the initial training\n",
    "# set\n",
    "my_dataset_handler.set_validation_indices(\n",
    "    np.array(\n",
    "        range(\n",
    "            number_of_training_indices,\n",
    "            number_of_training_indices + number_of_validation_indices,\n",
    "        )\n",
    "    )\n",
    ")\n",
    "number_of_initial_training = 20\n",
    "random_samples = random.sample(\n",
    "    range(number_of_training_indices), number_of_initial_training\n",
    ")\n",
    "currently_labeled_examples = np.array(random_samples)\n",
    "print(\"Datahandler is initialized\")"
   ]
  },
  {
   "cell_type": "markdown",
   "id": "1665ae47-e23f-461c-9167-4e4443c4fb81",
   "metadata": {},
   "source": [
    "<h2>Create a model and a Model Handler</h2>\n",
    "\n",
    "<p>Write me</p>"
   ]
  },
  {
   "cell_type": "code",
   "execution_count": 5,
   "id": "3576b1b9-a56a-44c0-ab72-3a4011d927ce",
   "metadata": {},
   "outputs": [
    {
     "name": "stdout",
     "output_type": "stream",
     "text": [
      "feature_shape = (28, 28)\n"
     ]
    }
   ],
   "source": [
    "feature_shape = my_feature_vectors.shape[1:]\n",
    "print(f\"{feature_shape = }\")"
   ]
  },
  {
   "cell_type": "markdown",
   "id": "bf1e4959-ffd6-4041-bb0a-98f82cdfd770",
   "metadata": {},
   "source": [
    "<h3>Build a TensorFlow model and its Model Handler</h3>"
   ]
  },
  {
   "cell_type": "code",
   "execution_count": 6,
   "id": "4e914905-f264-4a40-84df-0e692c0c1ecd",
   "metadata": {},
   "outputs": [],
   "source": [
    "# batchbald_redux does not support tensorflow at this time"
   ]
  },
  {
   "cell_type": "markdown",
   "id": "3a077bc0-d613-470a-b33b-a10ce7592727",
   "metadata": {},
   "source": [
    "<h3>Build a Torch model and its Model Handler</h3>"
   ]
  },
  {
   "cell_type": "code",
   "execution_count": 7,
   "id": "60dd5f15-3527-4f9a-8721-92af8732613f",
   "metadata": {},
   "outputs": [
    {
     "name": "stdout",
     "output_type": "stream",
     "text": [
      "Created torch model\n"
     ]
    }
   ],
   "source": [
    "class BayesianCNN(bbald.consistent_mc_dropout.BayesianModule):\n",
    "    def __init__(self, num_classes=10):\n",
    "        super().__init__()\n",
    "\n",
    "        self.conv1 = torch.nn.Conv2d(1, 32, kernel_size=5)\n",
    "        self.conv1_drop = bbald.consistent_mc_dropout.ConsistentMCDropout2d()\n",
    "        self.conv2 = torch.nn.Conv2d(32, 64, kernel_size=5)\n",
    "        self.conv2_drop = bbald.consistent_mc_dropout.ConsistentMCDropout2d()\n",
    "        self.fc1 = torch.nn.Linear(1024, 128)\n",
    "        self.fc1_drop = bbald.consistent_mc_dropout.ConsistentMCDropout()\n",
    "        self.fc2 = torch.nn.Linear(128, num_classes)\n",
    "\n",
    "    def mc_forward_impl(self, input: torch.Tensor):\n",
    "        input = torch.nn.functional.relu(\n",
    "            torch.nn.functional.max_pool2d(self.conv1_drop(self.conv1(input)), 2)\n",
    "        )\n",
    "        input = torch.nn.functional.relu(\n",
    "            torch.nn.functional.max_pool2d(self.conv2_drop(self.conv2(input)), 2)\n",
    "        )\n",
    "        input = input.view(-1, 1024)\n",
    "        input = torch.nn.functional.relu(self.fc1_drop(self.fc1(input)))\n",
    "        input = self.fc2(input)\n",
    "        input = torch.nn.functional.log_softmax(input, dim=1)\n",
    "\n",
    "        return input\n",
    "\n",
    "\n",
    "my_pytorch_model = BayesianCNN(num_classes)\n",
    "print(\"Created torch model\")"
   ]
  },
  {
   "cell_type": "code",
   "execution_count": 8,
   "id": "cf004df0-2c69-4db8-9a9f-bbc8fe7ad83a",
   "metadata": {},
   "outputs": [
    {
     "name": "stdout",
     "output_type": "stream",
     "text": [
      "PyTorch model handler built\n"
     ]
    }
   ],
   "source": [
    "# Tell al_bench about the model\n",
    "my_pytorch_model_handler = alb.model.SamplingBayesianPyTorchModelHandler()\n",
    "my_pytorch_model_handler.set_model(my_pytorch_model)\n",
    "print(\"PyTorch model handler built\")"
   ]
  },
  {
   "cell_type": "markdown",
   "id": "87fbd678-e488-4b99-912c-7318d5507be1",
   "metadata": {},
   "source": [
    "<h3>Choose one of the models to proceed with</h3>\n",
    "\n",
    "<p>Write me</p>"
   ]
  },
  {
   "cell_type": "code",
   "execution_count": 9,
   "id": "9304dc37-2936-4b20-9096-2162390943bb",
   "metadata": {},
   "outputs": [],
   "source": [
    "# my_model_handler = my_tensorflow_model_handler\n",
    "my_model_handler = my_pytorch_model_handler"
   ]
  },
  {
   "cell_type": "markdown",
   "id": "6e961066-33aa-4ce6-b13d-91927aa6102e",
   "metadata": {},
   "source": [
    "<h2>Make use of Strategy Handlers for active learning</h2>\n",
    "\n",
    "<p>Write me</p>\n"
   ]
  },
  {
   "cell_type": "code",
   "execution_count": 10,
   "id": "7331ecb0-90b8-4b51-b5f1-4c1e1bd855c5",
   "metadata": {},
   "outputs": [
    {
     "name": "stdout",
     "output_type": "stream",
     "text": [
      "=== Begin Strategy 'BatchBALD' at 2023-02-08 14:51:27.158277 ===\n",
      "Training with 20 examples\n",
      "Predicting for 550 examples\n"
     ]
    },
    {
     "data": {
      "application/vnd.jupyter.widget-view+json": {
       "model_id": "39ec2964e4674b03aa70d2682c5918fa",
       "version_major": 2,
       "version_minor": 0
      },
      "text/plain": [
       "Conditional Entropy:   0%|          | 0/480 [00:00<?, ?it/s]"
      ]
     },
     "metadata": {},
     "output_type": "display_data"
    },
    {
     "data": {
      "application/vnd.jupyter.widget-view+json": {
       "model_id": "82961ad2ef954de482dd6abca172a999",
       "version_major": 2,
       "version_minor": 0
      },
      "text/plain": [
       "BatchBALD:   0%|          | 0/10 [00:00<?, ?it/s]"
      ]
     },
     "metadata": {},
     "output_type": "display_data"
    },
    {
     "data": {
      "application/vnd.jupyter.widget-view+json": {
       "model_id": "cf9cc8bd4ffd4dbcb127e85953383f3a",
       "version_major": 2,
       "version_minor": 0
      },
      "text/plain": [
       "ExactJointEntropy.compute_batch:   0%|          | 0/480 [00:00<?, ?it/s]"
      ]
     },
     "metadata": {},
     "output_type": "display_data"
    },
    {
     "data": {
      "application/vnd.jupyter.widget-view+json": {
       "model_id": "c0db14618fb74bfb9a739eeee25c3d2a",
       "version_major": 2,
       "version_minor": 0
      },
      "text/plain": [
       "ExactJointEntropy.compute_batch:   0%|          | 0/480 [00:00<?, ?it/s]"
      ]
     },
     "metadata": {},
     "output_type": "display_data"
    },
    {
     "data": {
      "application/vnd.jupyter.widget-view+json": {
       "model_id": "377b8775dc794c3785a941a10763d8c4",
       "version_major": 2,
       "version_minor": 0
      },
      "text/plain": [
       "ExactJointEntropy.compute_batch:   0%|          | 0/480 [00:00<?, ?it/s]"
      ]
     },
     "metadata": {},
     "output_type": "display_data"
    },
    {
     "data": {
      "application/vnd.jupyter.widget-view+json": {
       "model_id": "c91b3586203c436ba3e32bb54105f318",
       "version_major": 2,
       "version_minor": 0
      },
      "text/plain": [
       "ExactJointEntropy.compute_batch:   0%|          | 0/480 [00:00<?, ?it/s]"
      ]
     },
     "metadata": {},
     "output_type": "display_data"
    },
    {
     "data": {
      "application/vnd.jupyter.widget-view+json": {
       "model_id": "02f4ab351cde4a489b5f837acaa65ddc",
       "version_major": 2,
       "version_minor": 0
      },
      "text/plain": [
       "ExactJointEntropy.compute_batch:   0%|          | 0/480 [00:00<?, ?it/s]"
      ]
     },
     "metadata": {},
     "output_type": "display_data"
    },
    {
     "data": {
      "application/vnd.jupyter.widget-view+json": {
       "model_id": "e41996375067469d9c91a7eae4df6d7d",
       "version_major": 2,
       "version_minor": 0
      },
      "text/plain": [
       "ExactJointEntropy.compute_batch:   0%|          | 0/480 [00:00<?, ?it/s]"
      ]
     },
     "metadata": {},
     "output_type": "display_data"
    },
    {
     "data": {
      "application/vnd.jupyter.widget-view+json": {
       "model_id": "46a5834b905144b0999adfbf46ac3fba",
       "version_major": 2,
       "version_minor": 0
      },
      "text/plain": [
       "SampledJointEntropy.compute_batch:   0%|          | 0/480 [00:00<?, ?it/s]"
      ]
     },
     "metadata": {},
     "output_type": "display_data"
    },
    {
     "data": {
      "application/vnd.jupyter.widget-view+json": {
       "model_id": "cd314396b59e4f6a9d37da0745dfc7d2",
       "version_major": 2,
       "version_minor": 0
      },
      "text/plain": [
       "SampledJointEntropy.compute_batch:   0%|          | 0/480 [00:00<?, ?it/s]"
      ]
     },
     "metadata": {},
     "output_type": "display_data"
    },
    {
     "data": {
      "application/vnd.jupyter.widget-view+json": {
       "model_id": "b5b60b896d4744668bfa8db74d0c80f0",
       "version_major": 2,
       "version_minor": 0
      },
      "text/plain": [
       "SampledJointEntropy.compute_batch:   0%|          | 0/480 [00:00<?, ?it/s]"
      ]
     },
     "metadata": {},
     "output_type": "display_data"
    },
    {
     "data": {
      "application/vnd.jupyter.widget-view+json": {
       "model_id": "c41f295159c04a029970c66e8359297b",
       "version_major": 2,
       "version_minor": 0
      },
      "text/plain": [
       "SampledJointEntropy.compute_batch:   0%|          | 0/480 [00:00<?, ?it/s]"
      ]
     },
     "metadata": {},
     "output_type": "display_data"
    },
    {
     "name": "stdout",
     "output_type": "stream",
     "text": [
      "Training with 30 examples\n",
      "Predicting for 550 examples\n"
     ]
    },
    {
     "data": {
      "application/vnd.jupyter.widget-view+json": {
       "model_id": "749bc0085c244c0bb8828d4d2f0595ec",
       "version_major": 2,
       "version_minor": 0
      },
      "text/plain": [
       "Conditional Entropy:   0%|          | 0/470 [00:00<?, ?it/s]"
      ]
     },
     "metadata": {},
     "output_type": "display_data"
    },
    {
     "data": {
      "application/vnd.jupyter.widget-view+json": {
       "model_id": "e07b7a7a9d5346fe863bb8ddd8c96452",
       "version_major": 2,
       "version_minor": 0
      },
      "text/plain": [
       "BatchBALD:   0%|          | 0/10 [00:00<?, ?it/s]"
      ]
     },
     "metadata": {},
     "output_type": "display_data"
    },
    {
     "data": {
      "application/vnd.jupyter.widget-view+json": {
       "model_id": "05c5294a4eb24c0ea0aae4aea20614ae",
       "version_major": 2,
       "version_minor": 0
      },
      "text/plain": [
       "ExactJointEntropy.compute_batch:   0%|          | 0/470 [00:00<?, ?it/s]"
      ]
     },
     "metadata": {},
     "output_type": "display_data"
    },
    {
     "data": {
      "application/vnd.jupyter.widget-view+json": {
       "model_id": "261350151ae74694806d439bbf04a1f0",
       "version_major": 2,
       "version_minor": 0
      },
      "text/plain": [
       "ExactJointEntropy.compute_batch:   0%|          | 0/470 [00:00<?, ?it/s]"
      ]
     },
     "metadata": {},
     "output_type": "display_data"
    },
    {
     "data": {
      "application/vnd.jupyter.widget-view+json": {
       "model_id": "4fb4c7fc8ab043699d7d5d061c95db04",
       "version_major": 2,
       "version_minor": 0
      },
      "text/plain": [
       "ExactJointEntropy.compute_batch:   0%|          | 0/470 [00:00<?, ?it/s]"
      ]
     },
     "metadata": {},
     "output_type": "display_data"
    },
    {
     "data": {
      "application/vnd.jupyter.widget-view+json": {
       "model_id": "0f97963e1ed446059ab8ed6f603ba912",
       "version_major": 2,
       "version_minor": 0
      },
      "text/plain": [
       "ExactJointEntropy.compute_batch:   0%|          | 0/470 [00:00<?, ?it/s]"
      ]
     },
     "metadata": {},
     "output_type": "display_data"
    },
    {
     "data": {
      "application/vnd.jupyter.widget-view+json": {
       "model_id": "2612b099319d4a6585e7095a11279b40",
       "version_major": 2,
       "version_minor": 0
      },
      "text/plain": [
       "ExactJointEntropy.compute_batch:   0%|          | 0/470 [00:00<?, ?it/s]"
      ]
     },
     "metadata": {},
     "output_type": "display_data"
    },
    {
     "data": {
      "application/vnd.jupyter.widget-view+json": {
       "model_id": "f9902f1ff2384ed6a672431288fc5dc3",
       "version_major": 2,
       "version_minor": 0
      },
      "text/plain": [
       "ExactJointEntropy.compute_batch:   0%|          | 0/470 [00:00<?, ?it/s]"
      ]
     },
     "metadata": {},
     "output_type": "display_data"
    },
    {
     "data": {
      "application/vnd.jupyter.widget-view+json": {
       "model_id": "e1918cd14459458596a3cfe3c7279e1f",
       "version_major": 2,
       "version_minor": 0
      },
      "text/plain": [
       "SampledJointEntropy.compute_batch:   0%|          | 0/470 [00:00<?, ?it/s]"
      ]
     },
     "metadata": {},
     "output_type": "display_data"
    },
    {
     "data": {
      "application/vnd.jupyter.widget-view+json": {
       "model_id": "e2d1bfed2ec54766bbe7b8a559301d06",
       "version_major": 2,
       "version_minor": 0
      },
      "text/plain": [
       "SampledJointEntropy.compute_batch:   0%|          | 0/470 [00:00<?, ?it/s]"
      ]
     },
     "metadata": {},
     "output_type": "display_data"
    },
    {
     "data": {
      "application/vnd.jupyter.widget-view+json": {
       "model_id": "25e959af6e624f0087e26bf452d62517",
       "version_major": 2,
       "version_minor": 0
      },
      "text/plain": [
       "SampledJointEntropy.compute_batch:   0%|          | 0/470 [00:00<?, ?it/s]"
      ]
     },
     "metadata": {},
     "output_type": "display_data"
    },
    {
     "data": {
      "application/vnd.jupyter.widget-view+json": {
       "model_id": "2fdd27b780d44c8695ed0ad33bfcc17b",
       "version_major": 2,
       "version_minor": 0
      },
      "text/plain": [
       "SampledJointEntropy.compute_batch:   0%|          | 0/470 [00:00<?, ?it/s]"
      ]
     },
     "metadata": {},
     "output_type": "display_data"
    },
    {
     "name": "stdout",
     "output_type": "stream",
     "text": [
      "Training with 40 examples\n",
      "Predicting for 550 examples\n"
     ]
    },
    {
     "data": {
      "application/vnd.jupyter.widget-view+json": {
       "model_id": "eb5f320e560a48f58979adbda952f41f",
       "version_major": 2,
       "version_minor": 0
      },
      "text/plain": [
       "Conditional Entropy:   0%|          | 0/460 [00:00<?, ?it/s]"
      ]
     },
     "metadata": {},
     "output_type": "display_data"
    },
    {
     "data": {
      "application/vnd.jupyter.widget-view+json": {
       "model_id": "cec733976a2f4788a7a662529ef3512f",
       "version_major": 2,
       "version_minor": 0
      },
      "text/plain": [
       "BatchBALD:   0%|          | 0/10 [00:00<?, ?it/s]"
      ]
     },
     "metadata": {},
     "output_type": "display_data"
    },
    {
     "data": {
      "application/vnd.jupyter.widget-view+json": {
       "model_id": "4607f559f48045eb8375c9b0f28c36fe",
       "version_major": 2,
       "version_minor": 0
      },
      "text/plain": [
       "ExactJointEntropy.compute_batch:   0%|          | 0/460 [00:00<?, ?it/s]"
      ]
     },
     "metadata": {},
     "output_type": "display_data"
    },
    {
     "data": {
      "application/vnd.jupyter.widget-view+json": {
       "model_id": "f352eeaa6b674e4294ea6503a55fedbe",
       "version_major": 2,
       "version_minor": 0
      },
      "text/plain": [
       "ExactJointEntropy.compute_batch:   0%|          | 0/460 [00:00<?, ?it/s]"
      ]
     },
     "metadata": {},
     "output_type": "display_data"
    },
    {
     "data": {
      "application/vnd.jupyter.widget-view+json": {
       "model_id": "f1a5afb3ea0f44698dde6ac42b3c1a6f",
       "version_major": 2,
       "version_minor": 0
      },
      "text/plain": [
       "ExactJointEntropy.compute_batch:   0%|          | 0/460 [00:00<?, ?it/s]"
      ]
     },
     "metadata": {},
     "output_type": "display_data"
    },
    {
     "data": {
      "application/vnd.jupyter.widget-view+json": {
       "model_id": "9b47341b3f0944cd9011c20824ec9338",
       "version_major": 2,
       "version_minor": 0
      },
      "text/plain": [
       "ExactJointEntropy.compute_batch:   0%|          | 0/460 [00:00<?, ?it/s]"
      ]
     },
     "metadata": {},
     "output_type": "display_data"
    },
    {
     "data": {
      "application/vnd.jupyter.widget-view+json": {
       "model_id": "e7aad7ef92ff4e919b09d3a69a2d6ecf",
       "version_major": 2,
       "version_minor": 0
      },
      "text/plain": [
       "ExactJointEntropy.compute_batch:   0%|          | 0/460 [00:00<?, ?it/s]"
      ]
     },
     "metadata": {},
     "output_type": "display_data"
    },
    {
     "data": {
      "application/vnd.jupyter.widget-view+json": {
       "model_id": "4b0b9cd738a4489bbf8ebdfdacff6ce0",
       "version_major": 2,
       "version_minor": 0
      },
      "text/plain": [
       "ExactJointEntropy.compute_batch:   0%|          | 0/460 [00:00<?, ?it/s]"
      ]
     },
     "metadata": {},
     "output_type": "display_data"
    },
    {
     "data": {
      "application/vnd.jupyter.widget-view+json": {
       "model_id": "57367351c42e479fbb3689468616ddc1",
       "version_major": 2,
       "version_minor": 0
      },
      "text/plain": [
       "SampledJointEntropy.compute_batch:   0%|          | 0/460 [00:00<?, ?it/s]"
      ]
     },
     "metadata": {},
     "output_type": "display_data"
    },
    {
     "data": {
      "application/vnd.jupyter.widget-view+json": {
       "model_id": "61ce222c0b8d4cdbaddc28265d50d5ca",
       "version_major": 2,
       "version_minor": 0
      },
      "text/plain": [
       "SampledJointEntropy.compute_batch:   0%|          | 0/460 [00:00<?, ?it/s]"
      ]
     },
     "metadata": {},
     "output_type": "display_data"
    },
    {
     "data": {
      "application/vnd.jupyter.widget-view+json": {
       "model_id": "777441e94abe464696622389e8b3ef6e",
       "version_major": 2,
       "version_minor": 0
      },
      "text/plain": [
       "SampledJointEntropy.compute_batch:   0%|          | 0/460 [00:00<?, ?it/s]"
      ]
     },
     "metadata": {},
     "output_type": "display_data"
    },
    {
     "data": {
      "application/vnd.jupyter.widget-view+json": {
       "model_id": "9ba8654cca394198a1d4c9d5ab3b2882",
       "version_major": 2,
       "version_minor": 0
      },
      "text/plain": [
       "SampledJointEntropy.compute_batch:   0%|          | 0/460 [00:00<?, ?it/s]"
      ]
     },
     "metadata": {},
     "output_type": "display_data"
    },
    {
     "name": "stdout",
     "output_type": "stream",
     "text": [
      "Training with 50 examples\n",
      "Predicting for 550 examples\n"
     ]
    },
    {
     "data": {
      "application/vnd.jupyter.widget-view+json": {
       "model_id": "430267d0740648a7b24d7e973c52593a",
       "version_major": 2,
       "version_minor": 0
      },
      "text/plain": [
       "Conditional Entropy:   0%|          | 0/450 [00:00<?, ?it/s]"
      ]
     },
     "metadata": {},
     "output_type": "display_data"
    },
    {
     "data": {
      "application/vnd.jupyter.widget-view+json": {
       "model_id": "b5e4b3620eca4c9d965ec88e016fb947",
       "version_major": 2,
       "version_minor": 0
      },
      "text/plain": [
       "BatchBALD:   0%|          | 0/10 [00:00<?, ?it/s]"
      ]
     },
     "metadata": {},
     "output_type": "display_data"
    },
    {
     "data": {
      "application/vnd.jupyter.widget-view+json": {
       "model_id": "cdd30c1448a34fd4aac9cd99c44b6eb6",
       "version_major": 2,
       "version_minor": 0
      },
      "text/plain": [
       "ExactJointEntropy.compute_batch:   0%|          | 0/450 [00:00<?, ?it/s]"
      ]
     },
     "metadata": {},
     "output_type": "display_data"
    },
    {
     "data": {
      "application/vnd.jupyter.widget-view+json": {
       "model_id": "7e8943d4d7bb40dd88bea10981800912",
       "version_major": 2,
       "version_minor": 0
      },
      "text/plain": [
       "ExactJointEntropy.compute_batch:   0%|          | 0/450 [00:00<?, ?it/s]"
      ]
     },
     "metadata": {},
     "output_type": "display_data"
    },
    {
     "data": {
      "application/vnd.jupyter.widget-view+json": {
       "model_id": "5cd152e7caa64c38be222e459f6bee16",
       "version_major": 2,
       "version_minor": 0
      },
      "text/plain": [
       "ExactJointEntropy.compute_batch:   0%|          | 0/450 [00:00<?, ?it/s]"
      ]
     },
     "metadata": {},
     "output_type": "display_data"
    },
    {
     "data": {
      "application/vnd.jupyter.widget-view+json": {
       "model_id": "450a1b0451004c64966753a933a7906c",
       "version_major": 2,
       "version_minor": 0
      },
      "text/plain": [
       "ExactJointEntropy.compute_batch:   0%|          | 0/450 [00:00<?, ?it/s]"
      ]
     },
     "metadata": {},
     "output_type": "display_data"
    },
    {
     "data": {
      "application/vnd.jupyter.widget-view+json": {
       "model_id": "406b9e4568804a35b37236c2a00b6298",
       "version_major": 2,
       "version_minor": 0
      },
      "text/plain": [
       "ExactJointEntropy.compute_batch:   0%|          | 0/450 [00:00<?, ?it/s]"
      ]
     },
     "metadata": {},
     "output_type": "display_data"
    },
    {
     "data": {
      "application/vnd.jupyter.widget-view+json": {
       "model_id": "dccf72fbffbd43dab3de55dc0a857af3",
       "version_major": 2,
       "version_minor": 0
      },
      "text/plain": [
       "ExactJointEntropy.compute_batch:   0%|          | 0/450 [00:00<?, ?it/s]"
      ]
     },
     "metadata": {},
     "output_type": "display_data"
    },
    {
     "data": {
      "application/vnd.jupyter.widget-view+json": {
       "model_id": "4461f362940b4a4e9a2e42f07ddd3bba",
       "version_major": 2,
       "version_minor": 0
      },
      "text/plain": [
       "SampledJointEntropy.compute_batch:   0%|          | 0/450 [00:00<?, ?it/s]"
      ]
     },
     "metadata": {},
     "output_type": "display_data"
    },
    {
     "data": {
      "application/vnd.jupyter.widget-view+json": {
       "model_id": "7b5cf759d6cc4ae68e2f5d8c1141d22f",
       "version_major": 2,
       "version_minor": 0
      },
      "text/plain": [
       "SampledJointEntropy.compute_batch:   0%|          | 0/450 [00:00<?, ?it/s]"
      ]
     },
     "metadata": {},
     "output_type": "display_data"
    },
    {
     "data": {
      "application/vnd.jupyter.widget-view+json": {
       "model_id": "13c87e3486304bce8aeb672ada5e9d65",
       "version_major": 2,
       "version_minor": 0
      },
      "text/plain": [
       "SampledJointEntropy.compute_batch:   0%|          | 0/450 [00:00<?, ?it/s]"
      ]
     },
     "metadata": {},
     "output_type": "display_data"
    },
    {
     "data": {
      "application/vnd.jupyter.widget-view+json": {
       "model_id": "5a2845c6d7dd48c2bd6f08f4f803147e",
       "version_major": 2,
       "version_minor": 0
      },
      "text/plain": [
       "SampledJointEntropy.compute_batch:   0%|          | 0/450 [00:00<?, ?it/s]"
      ]
     },
     "metadata": {},
     "output_type": "display_data"
    },
    {
     "name": "stdout",
     "output_type": "stream",
     "text": [
      "Training with 60 examples\n",
      "Predicting for 550 examples\n"
     ]
    },
    {
     "data": {
      "application/vnd.jupyter.widget-view+json": {
       "model_id": "17668b9ea3dd41b1a8bc800235336be8",
       "version_major": 2,
       "version_minor": 0
      },
      "text/plain": [
       "Conditional Entropy:   0%|          | 0/440 [00:00<?, ?it/s]"
      ]
     },
     "metadata": {},
     "output_type": "display_data"
    },
    {
     "data": {
      "application/vnd.jupyter.widget-view+json": {
       "model_id": "0acab69d426e45878b209df5cc2ba1e7",
       "version_major": 2,
       "version_minor": 0
      },
      "text/plain": [
       "BatchBALD:   0%|          | 0/10 [00:00<?, ?it/s]"
      ]
     },
     "metadata": {},
     "output_type": "display_data"
    },
    {
     "data": {
      "application/vnd.jupyter.widget-view+json": {
       "model_id": "e234f3701c8940e586323e0cb9408a66",
       "version_major": 2,
       "version_minor": 0
      },
      "text/plain": [
       "ExactJointEntropy.compute_batch:   0%|          | 0/440 [00:00<?, ?it/s]"
      ]
     },
     "metadata": {},
     "output_type": "display_data"
    },
    {
     "data": {
      "application/vnd.jupyter.widget-view+json": {
       "model_id": "41628bf72ea449f2a0aefe1091c55070",
       "version_major": 2,
       "version_minor": 0
      },
      "text/plain": [
       "ExactJointEntropy.compute_batch:   0%|          | 0/440 [00:00<?, ?it/s]"
      ]
     },
     "metadata": {},
     "output_type": "display_data"
    },
    {
     "data": {
      "application/vnd.jupyter.widget-view+json": {
       "model_id": "2d997b3ce2c54ab4aa004edce477b467",
       "version_major": 2,
       "version_minor": 0
      },
      "text/plain": [
       "ExactJointEntropy.compute_batch:   0%|          | 0/440 [00:00<?, ?it/s]"
      ]
     },
     "metadata": {},
     "output_type": "display_data"
    },
    {
     "data": {
      "application/vnd.jupyter.widget-view+json": {
       "model_id": "e0eef83d0b0a4058a77a953bb7ea673d",
       "version_major": 2,
       "version_minor": 0
      },
      "text/plain": [
       "ExactJointEntropy.compute_batch:   0%|          | 0/440 [00:00<?, ?it/s]"
      ]
     },
     "metadata": {},
     "output_type": "display_data"
    },
    {
     "data": {
      "application/vnd.jupyter.widget-view+json": {
       "model_id": "0e93ee8b8044405aba60e76bc9646f06",
       "version_major": 2,
       "version_minor": 0
      },
      "text/plain": [
       "ExactJointEntropy.compute_batch:   0%|          | 0/440 [00:00<?, ?it/s]"
      ]
     },
     "metadata": {},
     "output_type": "display_data"
    },
    {
     "data": {
      "application/vnd.jupyter.widget-view+json": {
       "model_id": "3b75a7a7c4904104a6704a951ed5d394",
       "version_major": 2,
       "version_minor": 0
      },
      "text/plain": [
       "ExactJointEntropy.compute_batch:   0%|          | 0/440 [00:00<?, ?it/s]"
      ]
     },
     "metadata": {},
     "output_type": "display_data"
    },
    {
     "data": {
      "application/vnd.jupyter.widget-view+json": {
       "model_id": "dea4080fa3ad4d22acb5119100133979",
       "version_major": 2,
       "version_minor": 0
      },
      "text/plain": [
       "SampledJointEntropy.compute_batch:   0%|          | 0/440 [00:00<?, ?it/s]"
      ]
     },
     "metadata": {},
     "output_type": "display_data"
    },
    {
     "data": {
      "application/vnd.jupyter.widget-view+json": {
       "model_id": "494afb4b13ee41758f9b0e67dc3f3136",
       "version_major": 2,
       "version_minor": 0
      },
      "text/plain": [
       "SampledJointEntropy.compute_batch:   0%|          | 0/440 [00:00<?, ?it/s]"
      ]
     },
     "metadata": {},
     "output_type": "display_data"
    },
    {
     "data": {
      "application/vnd.jupyter.widget-view+json": {
       "model_id": "d4f9fcd18113405393489c85110c966c",
       "version_major": 2,
       "version_minor": 0
      },
      "text/plain": [
       "SampledJointEntropy.compute_batch:   0%|          | 0/440 [00:00<?, ?it/s]"
      ]
     },
     "metadata": {},
     "output_type": "display_data"
    },
    {
     "data": {
      "application/vnd.jupyter.widget-view+json": {
       "model_id": "c157c9c0ba74411399b7f04fdff0edff",
       "version_major": 2,
       "version_minor": 0
      },
      "text/plain": [
       "SampledJointEntropy.compute_batch:   0%|          | 0/440 [00:00<?, ?it/s]"
      ]
     },
     "metadata": {},
     "output_type": "display_data"
    },
    {
     "name": "stdout",
     "output_type": "stream",
     "text": [
      "Training with 70 examples\n",
      "Predicting for 550 examples\n"
     ]
    },
    {
     "data": {
      "application/vnd.jupyter.widget-view+json": {
       "model_id": "2c6d962bd6ed4f0cb2894f8be9ae8bca",
       "version_major": 2,
       "version_minor": 0
      },
      "text/plain": [
       "Conditional Entropy:   0%|          | 0/430 [00:00<?, ?it/s]"
      ]
     },
     "metadata": {},
     "output_type": "display_data"
    },
    {
     "data": {
      "application/vnd.jupyter.widget-view+json": {
       "model_id": "84bc21cbd7fb4cd9a1afe58ba1dbd54f",
       "version_major": 2,
       "version_minor": 0
      },
      "text/plain": [
       "BatchBALD:   0%|          | 0/10 [00:00<?, ?it/s]"
      ]
     },
     "metadata": {},
     "output_type": "display_data"
    },
    {
     "data": {
      "application/vnd.jupyter.widget-view+json": {
       "model_id": "ec49312e72ca485bac6b1dd69aea4520",
       "version_major": 2,
       "version_minor": 0
      },
      "text/plain": [
       "ExactJointEntropy.compute_batch:   0%|          | 0/430 [00:00<?, ?it/s]"
      ]
     },
     "metadata": {},
     "output_type": "display_data"
    },
    {
     "data": {
      "application/vnd.jupyter.widget-view+json": {
       "model_id": "01ef7704d3984bc2b0bf2adf02ab6a7a",
       "version_major": 2,
       "version_minor": 0
      },
      "text/plain": [
       "ExactJointEntropy.compute_batch:   0%|          | 0/430 [00:00<?, ?it/s]"
      ]
     },
     "metadata": {},
     "output_type": "display_data"
    },
    {
     "data": {
      "application/vnd.jupyter.widget-view+json": {
       "model_id": "a611e3ed81c3486ea5ea29d452449625",
       "version_major": 2,
       "version_minor": 0
      },
      "text/plain": [
       "ExactJointEntropy.compute_batch:   0%|          | 0/430 [00:00<?, ?it/s]"
      ]
     },
     "metadata": {},
     "output_type": "display_data"
    },
    {
     "data": {
      "application/vnd.jupyter.widget-view+json": {
       "model_id": "f1ab6b8e6110480bae8cc69358a0b30b",
       "version_major": 2,
       "version_minor": 0
      },
      "text/plain": [
       "ExactJointEntropy.compute_batch:   0%|          | 0/430 [00:00<?, ?it/s]"
      ]
     },
     "metadata": {},
     "output_type": "display_data"
    },
    {
     "data": {
      "application/vnd.jupyter.widget-view+json": {
       "model_id": "e3315837152e43eaac484eaba0d18611",
       "version_major": 2,
       "version_minor": 0
      },
      "text/plain": [
       "ExactJointEntropy.compute_batch:   0%|          | 0/430 [00:00<?, ?it/s]"
      ]
     },
     "metadata": {},
     "output_type": "display_data"
    },
    {
     "data": {
      "application/vnd.jupyter.widget-view+json": {
       "model_id": "0ce140ad71d44014a3b0c69fc895630d",
       "version_major": 2,
       "version_minor": 0
      },
      "text/plain": [
       "ExactJointEntropy.compute_batch:   0%|          | 0/430 [00:00<?, ?it/s]"
      ]
     },
     "metadata": {},
     "output_type": "display_data"
    },
    {
     "data": {
      "application/vnd.jupyter.widget-view+json": {
       "model_id": "f92eef3ac2864727aedc528f0291e6c5",
       "version_major": 2,
       "version_minor": 0
      },
      "text/plain": [
       "SampledJointEntropy.compute_batch:   0%|          | 0/430 [00:00<?, ?it/s]"
      ]
     },
     "metadata": {},
     "output_type": "display_data"
    },
    {
     "data": {
      "application/vnd.jupyter.widget-view+json": {
       "model_id": "b94e8210d643431ea5f3c87e9178876b",
       "version_major": 2,
       "version_minor": 0
      },
      "text/plain": [
       "SampledJointEntropy.compute_batch:   0%|          | 0/430 [00:00<?, ?it/s]"
      ]
     },
     "metadata": {},
     "output_type": "display_data"
    },
    {
     "data": {
      "application/vnd.jupyter.widget-view+json": {
       "model_id": "e73a789b8a7e458daa60c21eb1335374",
       "version_major": 2,
       "version_minor": 0
      },
      "text/plain": [
       "SampledJointEntropy.compute_batch:   0%|          | 0/430 [00:00<?, ?it/s]"
      ]
     },
     "metadata": {},
     "output_type": "display_data"
    },
    {
     "data": {
      "application/vnd.jupyter.widget-view+json": {
       "model_id": "fc2e7f08175145868938cab17b360a1d",
       "version_major": 2,
       "version_minor": 0
      },
      "text/plain": [
       "SampledJointEntropy.compute_batch:   0%|          | 0/430 [00:00<?, ?it/s]"
      ]
     },
     "metadata": {},
     "output_type": "display_data"
    },
    {
     "name": "stdout",
     "output_type": "stream",
     "text": [
      "Training with 80 examples\n",
      "Predicting for 550 examples\n"
     ]
    },
    {
     "data": {
      "application/vnd.jupyter.widget-view+json": {
       "model_id": "d0b56b8fc66b4c74a71274fdb04359d2",
       "version_major": 2,
       "version_minor": 0
      },
      "text/plain": [
       "Conditional Entropy:   0%|          | 0/420 [00:00<?, ?it/s]"
      ]
     },
     "metadata": {},
     "output_type": "display_data"
    },
    {
     "data": {
      "application/vnd.jupyter.widget-view+json": {
       "model_id": "ca526eab356b445f86542b34a394565d",
       "version_major": 2,
       "version_minor": 0
      },
      "text/plain": [
       "BatchBALD:   0%|          | 0/10 [00:00<?, ?it/s]"
      ]
     },
     "metadata": {},
     "output_type": "display_data"
    },
    {
     "data": {
      "application/vnd.jupyter.widget-view+json": {
       "model_id": "2ec0344e2d7c48ef952a510758bf554d",
       "version_major": 2,
       "version_minor": 0
      },
      "text/plain": [
       "ExactJointEntropy.compute_batch:   0%|          | 0/420 [00:00<?, ?it/s]"
      ]
     },
     "metadata": {},
     "output_type": "display_data"
    },
    {
     "data": {
      "application/vnd.jupyter.widget-view+json": {
       "model_id": "f6ae78b088b74f8fb623f1bcf0bbf035",
       "version_major": 2,
       "version_minor": 0
      },
      "text/plain": [
       "ExactJointEntropy.compute_batch:   0%|          | 0/420 [00:00<?, ?it/s]"
      ]
     },
     "metadata": {},
     "output_type": "display_data"
    },
    {
     "data": {
      "application/vnd.jupyter.widget-view+json": {
       "model_id": "e1019fa8b7cc4ae8b0ac472cce4ae7b3",
       "version_major": 2,
       "version_minor": 0
      },
      "text/plain": [
       "ExactJointEntropy.compute_batch:   0%|          | 0/420 [00:00<?, ?it/s]"
      ]
     },
     "metadata": {},
     "output_type": "display_data"
    },
    {
     "data": {
      "application/vnd.jupyter.widget-view+json": {
       "model_id": "1c06a0f65b524930b6a917080eedf0e2",
       "version_major": 2,
       "version_minor": 0
      },
      "text/plain": [
       "ExactJointEntropy.compute_batch:   0%|          | 0/420 [00:00<?, ?it/s]"
      ]
     },
     "metadata": {},
     "output_type": "display_data"
    },
    {
     "data": {
      "application/vnd.jupyter.widget-view+json": {
       "model_id": "a86fdb1fc8ac471d8394e59a1a18781e",
       "version_major": 2,
       "version_minor": 0
      },
      "text/plain": [
       "ExactJointEntropy.compute_batch:   0%|          | 0/420 [00:00<?, ?it/s]"
      ]
     },
     "metadata": {},
     "output_type": "display_data"
    },
    {
     "data": {
      "application/vnd.jupyter.widget-view+json": {
       "model_id": "482accdfdfbb48b8b8da163c864d5022",
       "version_major": 2,
       "version_minor": 0
      },
      "text/plain": [
       "ExactJointEntropy.compute_batch:   0%|          | 0/420 [00:00<?, ?it/s]"
      ]
     },
     "metadata": {},
     "output_type": "display_data"
    },
    {
     "data": {
      "application/vnd.jupyter.widget-view+json": {
       "model_id": "8407924fa158406285e60f70cbedeb38",
       "version_major": 2,
       "version_minor": 0
      },
      "text/plain": [
       "SampledJointEntropy.compute_batch:   0%|          | 0/420 [00:00<?, ?it/s]"
      ]
     },
     "metadata": {},
     "output_type": "display_data"
    },
    {
     "data": {
      "application/vnd.jupyter.widget-view+json": {
       "model_id": "c2a559e46ea34166a429d563e1c93ab1",
       "version_major": 2,
       "version_minor": 0
      },
      "text/plain": [
       "SampledJointEntropy.compute_batch:   0%|          | 0/420 [00:00<?, ?it/s]"
      ]
     },
     "metadata": {},
     "output_type": "display_data"
    },
    {
     "data": {
      "application/vnd.jupyter.widget-view+json": {
       "model_id": "3cc9239e1f674514a141488dedcb56fe",
       "version_major": 2,
       "version_minor": 0
      },
      "text/plain": [
       "SampledJointEntropy.compute_batch:   0%|          | 0/420 [00:00<?, ?it/s]"
      ]
     },
     "metadata": {},
     "output_type": "display_data"
    },
    {
     "data": {
      "application/vnd.jupyter.widget-view+json": {
       "model_id": "ad955bdf52654cb584bccbd1f4540569",
       "version_major": 2,
       "version_minor": 0
      },
      "text/plain": [
       "SampledJointEntropy.compute_batch:   0%|          | 0/420 [00:00<?, ?it/s]"
      ]
     },
     "metadata": {},
     "output_type": "display_data"
    },
    {
     "name": "stdout",
     "output_type": "stream",
     "text": [
      "Training with 90 examples\n",
      "Predicting for 550 examples\n"
     ]
    },
    {
     "data": {
      "application/vnd.jupyter.widget-view+json": {
       "model_id": "ab41621036554f9f95303999e2a579ab",
       "version_major": 2,
       "version_minor": 0
      },
      "text/plain": [
       "Conditional Entropy:   0%|          | 0/410 [00:00<?, ?it/s]"
      ]
     },
     "metadata": {},
     "output_type": "display_data"
    },
    {
     "data": {
      "application/vnd.jupyter.widget-view+json": {
       "model_id": "39cf3fab03324b69a4209086ddda6b04",
       "version_major": 2,
       "version_minor": 0
      },
      "text/plain": [
       "BatchBALD:   0%|          | 0/10 [00:00<?, ?it/s]"
      ]
     },
     "metadata": {},
     "output_type": "display_data"
    },
    {
     "data": {
      "application/vnd.jupyter.widget-view+json": {
       "model_id": "9d4e22e6a03447f1958148ae2aa02acc",
       "version_major": 2,
       "version_minor": 0
      },
      "text/plain": [
       "ExactJointEntropy.compute_batch:   0%|          | 0/410 [00:00<?, ?it/s]"
      ]
     },
     "metadata": {},
     "output_type": "display_data"
    },
    {
     "data": {
      "application/vnd.jupyter.widget-view+json": {
       "model_id": "ef483242714541ff8c53d4c2c9b38f47",
       "version_major": 2,
       "version_minor": 0
      },
      "text/plain": [
       "ExactJointEntropy.compute_batch:   0%|          | 0/410 [00:00<?, ?it/s]"
      ]
     },
     "metadata": {},
     "output_type": "display_data"
    },
    {
     "data": {
      "application/vnd.jupyter.widget-view+json": {
       "model_id": "d37618db30bd4f16b797846bc1199f62",
       "version_major": 2,
       "version_minor": 0
      },
      "text/plain": [
       "ExactJointEntropy.compute_batch:   0%|          | 0/410 [00:00<?, ?it/s]"
      ]
     },
     "metadata": {},
     "output_type": "display_data"
    },
    {
     "data": {
      "application/vnd.jupyter.widget-view+json": {
       "model_id": "2bdb73f908754ef9bbc0625f8ae2b096",
       "version_major": 2,
       "version_minor": 0
      },
      "text/plain": [
       "ExactJointEntropy.compute_batch:   0%|          | 0/410 [00:00<?, ?it/s]"
      ]
     },
     "metadata": {},
     "output_type": "display_data"
    },
    {
     "data": {
      "application/vnd.jupyter.widget-view+json": {
       "model_id": "502dd1203e054596840f2dfed5b38587",
       "version_major": 2,
       "version_minor": 0
      },
      "text/plain": [
       "ExactJointEntropy.compute_batch:   0%|          | 0/410 [00:00<?, ?it/s]"
      ]
     },
     "metadata": {},
     "output_type": "display_data"
    },
    {
     "data": {
      "application/vnd.jupyter.widget-view+json": {
       "model_id": "84d271168fc34a86bd1ebaedc13238a8",
       "version_major": 2,
       "version_minor": 0
      },
      "text/plain": [
       "ExactJointEntropy.compute_batch:   0%|          | 0/410 [00:00<?, ?it/s]"
      ]
     },
     "metadata": {},
     "output_type": "display_data"
    },
    {
     "data": {
      "application/vnd.jupyter.widget-view+json": {
       "model_id": "43b3e42fce01438ba563ed7838fbe277",
       "version_major": 2,
       "version_minor": 0
      },
      "text/plain": [
       "SampledJointEntropy.compute_batch:   0%|          | 0/410 [00:00<?, ?it/s]"
      ]
     },
     "metadata": {},
     "output_type": "display_data"
    },
    {
     "data": {
      "application/vnd.jupyter.widget-view+json": {
       "model_id": "0fdbfb18aec94aaab1120e51dd496250",
       "version_major": 2,
       "version_minor": 0
      },
      "text/plain": [
       "SampledJointEntropy.compute_batch:   0%|          | 0/410 [00:00<?, ?it/s]"
      ]
     },
     "metadata": {},
     "output_type": "display_data"
    },
    {
     "data": {
      "application/vnd.jupyter.widget-view+json": {
       "model_id": "49da754e7e2047c5804d36faea75e543",
       "version_major": 2,
       "version_minor": 0
      },
      "text/plain": [
       "SampledJointEntropy.compute_batch:   0%|          | 0/410 [00:00<?, ?it/s]"
      ]
     },
     "metadata": {},
     "output_type": "display_data"
    },
    {
     "data": {
      "application/vnd.jupyter.widget-view+json": {
       "model_id": "2cc404f572664e8d98eb3300963e554c",
       "version_major": 2,
       "version_minor": 0
      },
      "text/plain": [
       "SampledJointEntropy.compute_batch:   0%|          | 0/410 [00:00<?, ?it/s]"
      ]
     },
     "metadata": {},
     "output_type": "display_data"
    },
    {
     "name": "stdout",
     "output_type": "stream",
     "text": [
      "Training with 100 examples\n",
      "Predicting for 550 examples\n",
      "=== Done at 2023-02-08 14:55:53.003228 ===\n"
     ]
    }
   ],
   "source": [
    "all_logs_dir = \"runs-SamplingBayesian\"\n",
    "try:\n",
    "    shutil.rmtree(all_logs_dir)  # DELETE OLD LOG FILES\n",
    "except:\n",
    "    pass\n",
    "\n",
    "for name, my_strategy_handler in (\n",
    "    #   (\"BALD\", alb.strategy.BaldStrategyHandler()),\n",
    "    (\"BatchBALD\", alb.strategy.BatchBaldStrategyHandler()),\n",
    "):\n",
    "    print(f\"=== Begin Strategy {repr(name)} at {datetime.now()} ===\")\n",
    "    my_strategy_handler.set_dataset_handler(my_dataset_handler)\n",
    "    my_strategy_handler.set_model_handler(my_model_handler)\n",
    "    my_strategy_handler.set_learning_parameters(\n",
    "        label_of_interest=0,  # We've supplied only one label per feature vector\n",
    "        maximum_queries=8,\n",
    "        number_to_select_per_query=10,\n",
    "    )\n",
    "\n",
    "    # ################################################################\n",
    "    # Simulate the strategy.\n",
    "    my_strategy_handler.run(currently_labeled_examples)\n",
    "    # ################################################################\n",
    "\n",
    "    # We will write out collected information to disk.  First say where:\n",
    "    log_dir = os.path.join(all_logs_dir, name)\n",
    "    # Write accuracy and loss information during training\n",
    "    my_strategy_handler.write_train_log_for_tensorboard(log_dir=log_dir)\n",
    "    # Write confidence statistics during active learning\n",
    "    my_strategy_handler.write_confidence_log_for_tensorboard(log_dir=log_dir)\n",
    "print(f\"=== Done at {datetime.now()} ===\")"
   ]
  },
  {
   "cell_type": "markdown",
   "id": "5e7135fa-8548-4162-a55c-32716ffe81f7",
   "metadata": {},
   "source": [
    "<h2>Use with TensorBoard</h2>\n",
    "\n",
    "<p>Write me</p>"
   ]
  },
  {
   "cell_type": "code",
   "execution_count": 11,
   "id": "b2b2589a-a665-4124-809a-d04cd114b71c",
   "metadata": {},
   "outputs": [
    {
     "data": {
      "text/html": [
       "\n",
       "      <iframe id=\"tensorboard-frame-86f2df2699aa20d8\" width=\"100%\" height=\"800\" frameborder=\"0\">\n",
       "      </iframe>\n",
       "      <script>\n",
       "        (function() {\n",
       "          const frame = document.getElementById(\"tensorboard-frame-86f2df2699aa20d8\");\n",
       "          const url = new URL(\"/\", window.location);\n",
       "          const port = 6006;\n",
       "          if (port) {\n",
       "            url.port = port;\n",
       "          }\n",
       "          frame.src = url;\n",
       "        })();\n",
       "      </script>\n",
       "    "
      ],
      "text/plain": [
       "<IPython.core.display.HTML object>"
      ]
     },
     "metadata": {},
     "output_type": "display_data"
    }
   ],
   "source": [
    "%load_ext tensorboard\n",
    "%tensorboard --logdir {all_logs_dir}"
   ]
  }
 ],
 "metadata": {
  "kernelspec": {
   "display_name": "al_bench",
   "language": "python",
   "name": "al_bench"
  },
  "language_info": {
   "codemirror_mode": {
    "name": "ipython",
    "version": 3
   },
   "file_extension": ".py",
   "mimetype": "text/x-python",
   "name": "python",
   "nbconvert_exporter": "python",
   "pygments_lexer": "ipython3",
   "version": "3.8.10"
  }
 },
 "nbformat": 4,
 "nbformat_minor": 5
}
