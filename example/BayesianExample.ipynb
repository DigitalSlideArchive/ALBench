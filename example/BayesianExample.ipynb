{
 "cells": [
  {
   "cell_type": "markdown",
   "id": "f297f83e-bf29-480c-9573-0631e2ba66cb",
   "metadata": {},
   "source": [
    "<h1>ALBench project: BatchBALD</h1>\n",
    "\n",
    "<p>This Jupyter lab demonstrates use of the al_bench Active Learning Benchmark Tool with a Bayesian Neural Network and BatchBALD</p>"
   ]
  },
  {
   "cell_type": "markdown",
   "id": "c41732a2-e631-4af0-a79d-e943fb2dfa7c",
   "metadata": {},
   "source": [
    "<h2>Install needed Python packages</h2>\n",
    "\n",
    "<p>If you haven't yet installed these packages, remove the \"<code>#</code>\" characters and run this code block.</p>"
   ]
  },
  {
   "cell_type": "code",
   "execution_count": 1,
   "id": "0ea9a01a-cf90-4477-802f-7cc37fa0a266",
   "metadata": {},
   "outputs": [
    {
     "name": "stderr",
     "output_type": "stream",
     "text": [
      "2023-02-07 09:50:33.793853: I tensorflow/core/platform/cpu_feature_guard.cc:193] This TensorFlow binary is optimized with oneAPI Deep Neural Network Library (oneDNN) to use the following CPU instructions in performance-critical operations:  AVX2 AVX512F AVX512_VNNI FMA\n",
      "To enable them in other operations, rebuild TensorFlow with the appropriate compiler flags.\n",
      "2023-02-07 09:50:33.918944: I tensorflow/core/util/util.cc:169] oneDNN custom operations are on. You may see slightly different numerical results due to floating-point round-off errors from different computation orders. To turn them off, set the environment variable `TF_ENABLE_ONEDNN_OPTS=0`.\n",
      "2023-02-07 09:50:33.954652: E tensorflow/stream_executor/cuda/cuda_blas.cc:2981] Unable to register cuBLAS factory: Attempting to register factory for plugin cuBLAS when one has already been registered\n",
      "2023-02-07 09:50:34.548646: W tensorflow/stream_executor/platform/default/dso_loader.cc:64] Could not load dynamic library 'libnvinfer.so.7'; dlerror: libnvinfer.so.7: cannot open shared object file: No such file or directory; LD_LIBRARY_PATH: :/usr/local/cuda/lib64:/home/lee.newberg/Support/dakota-6.13.0.src-install/lib\n",
      "2023-02-07 09:50:34.548739: W tensorflow/stream_executor/platform/default/dso_loader.cc:64] Could not load dynamic library 'libnvinfer_plugin.so.7'; dlerror: libnvinfer_plugin.so.7: cannot open shared object file: No such file or directory; LD_LIBRARY_PATH: :/usr/local/cuda/lib64:/home/lee.newberg/Support/dakota-6.13.0.src-install/lib\n",
      "2023-02-07 09:50:34.548746: W tensorflow/compiler/tf2tensorrt/utils/py_utils.cc:38] TF-TRT Warning: Cannot dlopen some TensorRT libraries. If you would like to use Nvidia GPU with TensorRT, please make sure the missing libraries mentioned above are installed properly.\n"
     ]
    }
   ],
   "source": [
    "#!pip install -e ../../ALBench  # Installs al_bench and dependencies\n",
    "#!pip install ipywidgets\n",
    "#!jupyter labextension install @jupyter-widgets/jupyterlab-manager\n",
    "\n",
    "import al_bench as alb\n",
    "import batchbald_redux as bbald\n",
    "import batchbald_redux.active_learning\n",
    "import batchbald_redux.consistent_mc_dropout\n",
    "import batchbald_redux.repeated_mnist\n",
    "import numpy as np\n",
    "import os\n",
    "import random\n",
    "import shutil\n",
    "import torch"
   ]
  },
  {
   "cell_type": "markdown",
   "id": "a439f464-a0b3-4fb3-8ca6-c83415f25403",
   "metadata": {},
   "source": [
    "<h2>Overview</h2>\n",
    "\n",
    "<p>Write me</p>"
   ]
  },
  {
   "cell_type": "markdown",
   "id": "6fd7e1bd-8315-413d-b3ee-2d38e0777819",
   "metadata": {},
   "source": [
    "<h2>Find a dataset and create a Dataset Handler</h2>\n",
    "\n",
    "<p>Write me</p>"
   ]
  },
  {
   "cell_type": "code",
   "execution_count": 2,
   "id": "2cbbb249-3729-4469-811a-0127fe5674e2",
   "metadata": {},
   "outputs": [
    {
     "name": "stdout",
     "output_type": "stream",
     "text": [
      "Dataset is read\n"
     ]
    }
   ],
   "source": [
    "mnist = bbald.repeated_mnist.create_repeated_MNIST_dataset(\n",
    "    num_repetitions=1, add_noise=False\n",
    ")\n",
    "train_dataset, test_dataset = mnist\n",
    "\n",
    "print(\"Dataset is read\")"
   ]
  },
  {
   "cell_type": "code",
   "execution_count": 3,
   "id": "702f13ec-9b1d-446b-ae08-944aae519375",
   "metadata": {},
   "outputs": [
    {
     "name": "stdout",
     "output_type": "stream",
     "text": [
      "Dataset is converted to numpy\n",
      "Datahandler is initialized\n"
     ]
    }
   ],
   "source": [
    "# al_bench datasets are supplied as numpy arrays.\n",
    "# Build the numpy arrays from a subset of the data\n",
    "train_dataset_list = [d for d in train_dataset][:600]  # 600 (data, label) pairs\n",
    "test_dataset_list = [d for d in test_dataset][:100]\n",
    "number_of_training_indices = len(train_dataset_list)\n",
    "number_of_validation_indices = len(test_dataset_list)\n",
    "dataset_list = train_dataset_list + test_dataset_list\n",
    "my_feature_vectors = np.concatenate([d[0].numpy() for d in dataset_list])  # data only\n",
    "my_labels = np.array([[d[1]] for d in dataset_list])  # labels only\n",
    "# This dataset is the digits \"0\" through \"9\" which will be enumerated with the\n",
    "# values 0 through 9.\n",
    "num_classes = 10\n",
    "my_label_definitions = [{i: {\"description\": repr(i)} for i in range(num_classes)}]\n",
    "print(\"Dataset is converted to numpy\")\n",
    "\n",
    "# Tell al_bench about the dataset\n",
    "my_dataset_handler = alb.dataset.GenericDatasetHandler()\n",
    "my_dataset_handler.set_all_feature_vectors(my_feature_vectors)\n",
    "my_dataset_handler.set_all_label_definitions(my_label_definitions)\n",
    "my_dataset_handler.set_all_labels(my_labels)\n",
    "\n",
    "# Set aside disjoint sets of examples for use in validation and as the initial training\n",
    "# set\n",
    "my_dataset_handler.set_validation_indices(\n",
    "    np.array(\n",
    "        range(\n",
    "            number_of_training_indices,\n",
    "            number_of_training_indices + number_of_validation_indices,\n",
    "        )\n",
    "    )\n",
    ")\n",
    "number_of_initial_training = 20\n",
    "random_samples = random.sample(\n",
    "    range(number_of_training_indices), number_of_initial_training\n",
    ")\n",
    "currently_labeled_examples = np.array(random_samples)\n",
    "print(\"Datahandler is initialized\")"
   ]
  },
  {
   "cell_type": "markdown",
   "id": "1665ae47-e23f-461c-9167-4e4443c4fb81",
   "metadata": {},
   "source": [
    "<h2>Create a model and a Model Handler</h2>\n",
    "\n",
    "<p>Write me</p>"
   ]
  },
  {
   "cell_type": "code",
   "execution_count": 4,
   "id": "3576b1b9-a56a-44c0-ab72-3a4011d927ce",
   "metadata": {},
   "outputs": [
    {
     "name": "stdout",
     "output_type": "stream",
     "text": [
      "feature_shape = (28, 28)\n"
     ]
    }
   ],
   "source": [
    "feature_shape = my_feature_vectors.shape[1:]\n",
    "print(f\"{feature_shape = }\")"
   ]
  },
  {
   "cell_type": "markdown",
   "id": "bf1e4959-ffd6-4041-bb0a-98f82cdfd770",
   "metadata": {},
   "source": [
    "<h3>Build a TensorFlow model and its Model Handler</h3>"
   ]
  },
  {
   "cell_type": "code",
   "execution_count": 5,
   "id": "4e914905-f264-4a40-84df-0e692c0c1ecd",
   "metadata": {},
   "outputs": [],
   "source": [
    "# batchbald_redux does not support tensorflow at this time"
   ]
  },
  {
   "cell_type": "markdown",
   "id": "3a077bc0-d613-470a-b33b-a10ce7592727",
   "metadata": {},
   "source": [
    "<h3>Build a Torch model and its Model Handler</h3>"
   ]
  },
  {
   "cell_type": "code",
   "execution_count": 6,
   "id": "60dd5f15-3527-4f9a-8721-92af8732613f",
   "metadata": {},
   "outputs": [
    {
     "name": "stdout",
     "output_type": "stream",
     "text": [
      "Created torch model\n"
     ]
    }
   ],
   "source": [
    "class BayesianCNN(bbald.consistent_mc_dropout.BayesianModule):\n",
    "    def __init__(self, num_classes=10):\n",
    "        super().__init__()\n",
    "\n",
    "        self.conv1 = torch.nn.Conv2d(1, 32, kernel_size=5)\n",
    "        self.conv1_drop = bbald.consistent_mc_dropout.ConsistentMCDropout2d()\n",
    "        self.conv2 = torch.nn.Conv2d(32, 64, kernel_size=5)\n",
    "        self.conv2_drop = bbald.consistent_mc_dropout.ConsistentMCDropout2d()\n",
    "        self.fc1 = torch.nn.Linear(1024, 128)\n",
    "        self.fc1_drop = bbald.consistent_mc_dropout.ConsistentMCDropout()\n",
    "        self.fc2 = torch.nn.Linear(128, num_classes)\n",
    "\n",
    "    def mc_forward_impl(self, input: torch.Tensor):\n",
    "        input = torch.nn.functional.relu(\n",
    "            torch.nn.functional.max_pool2d(self.conv1_drop(self.conv1(input)), 2)\n",
    "        )\n",
    "        input = torch.nn.functional.relu(\n",
    "            torch.nn.functional.max_pool2d(self.conv2_drop(self.conv2(input)), 2)\n",
    "        )\n",
    "        input = input.view(-1, 1024)\n",
    "        input = torch.nn.functional.relu(self.fc1_drop(self.fc1(input)))\n",
    "        input = self.fc2(input)\n",
    "        input = torch.nn.functional.log_softmax(input, dim=1)\n",
    "\n",
    "        return input\n",
    "\n",
    "\n",
    "my_pytorch_model = BayesianCNN(num_classes)\n",
    "print(\"Created torch model\")"
   ]
  },
  {
   "cell_type": "code",
   "execution_count": 7,
   "id": "cf004df0-2c69-4db8-9a9f-bbc8fe7ad83a",
   "metadata": {},
   "outputs": [
    {
     "name": "stdout",
     "output_type": "stream",
     "text": [
      "PyTorch model handler built\n"
     ]
    }
   ],
   "source": [
    "# Tell al_bench about the model\n",
    "my_pytorch_model_handler = alb.model.SamplingBayesianPyTorchModelHandler()\n",
    "my_pytorch_model_handler.set_model(my_pytorch_model)\n",
    "print(\"PyTorch model handler built\")"
   ]
  },
  {
   "cell_type": "markdown",
   "id": "87fbd678-e488-4b99-912c-7318d5507be1",
   "metadata": {},
   "source": [
    "<h3>Choose one of the models to proceed with</h3>\n",
    "\n",
    "<p>Write me</p>"
   ]
  },
  {
   "cell_type": "code",
   "execution_count": 8,
   "id": "9304dc37-2936-4b20-9096-2162390943bb",
   "metadata": {},
   "outputs": [],
   "source": [
    "# my_model_handler = my_tensorflow_model_handler\n",
    "my_model_handler = my_pytorch_model_handler"
   ]
  },
  {
   "cell_type": "markdown",
   "id": "6e961066-33aa-4ce6-b13d-91927aa6102e",
   "metadata": {},
   "source": [
    "<h2>Make use of Strategy Handlers for active learning</h2>\n",
    "\n",
    "<p>Write me</p>\n"
   ]
  },
  {
   "cell_type": "code",
   "execution_count": 9,
   "id": "7331ecb0-90b8-4b51-b5f1-4c1e1bd855c5",
   "metadata": {},
   "outputs": [
    {
     "name": "stdout",
     "output_type": "stream",
     "text": [
      "=== Begin Strategy: BALD ===\n",
      "Training with 20 examples\n",
      "Predicting for 700 examples\n"
     ]
    },
    {
     "ename": "NotImplementedError",
     "evalue": "BaldStrategyHandler::select_next_indices is not yet implemented.",
     "output_type": "error",
     "traceback": [
      "\u001b[0;31m---------------------------------------------------------------------------\u001b[0m",
      "\u001b[0;31mNotImplementedError\u001b[0m                       Traceback (most recent call last)",
      "Cell \u001b[0;32mIn [9], line 22\u001b[0m\n\u001b[1;32m     14\u001b[0m my_strategy_handler\u001b[38;5;241m.\u001b[39mset_learning_parameters(\n\u001b[1;32m     15\u001b[0m     label_of_interest\u001b[38;5;241m=\u001b[39m\u001b[38;5;241m0\u001b[39m,  \u001b[38;5;66;03m# We've supplied only one label per feature vector\u001b[39;00m\n\u001b[1;32m     16\u001b[0m     maximum_queries\u001b[38;5;241m=\u001b[39m\u001b[38;5;241m8\u001b[39m,\n\u001b[1;32m     17\u001b[0m     number_to_select_per_query\u001b[38;5;241m=\u001b[39m\u001b[38;5;241m10\u001b[39m,\n\u001b[1;32m     18\u001b[0m )\n\u001b[1;32m     20\u001b[0m \u001b[38;5;66;03m# ################################################################\u001b[39;00m\n\u001b[1;32m     21\u001b[0m \u001b[38;5;66;03m# Simulate the strategy.\u001b[39;00m\n\u001b[0;32m---> 22\u001b[0m \u001b[43mmy_strategy_handler\u001b[49m\u001b[38;5;241;43m.\u001b[39;49m\u001b[43mrun\u001b[49m\u001b[43m(\u001b[49m\u001b[43mcurrently_labeled_examples\u001b[49m\u001b[43m)\u001b[49m\n\u001b[1;32m     23\u001b[0m \u001b[38;5;66;03m# ################################################################\u001b[39;00m\n\u001b[1;32m     24\u001b[0m \n\u001b[1;32m     25\u001b[0m \u001b[38;5;66;03m# We will write out collected information to disk.  First say where:\u001b[39;00m\n\u001b[1;32m     26\u001b[0m log_dir \u001b[38;5;241m=\u001b[39m os\u001b[38;5;241m.\u001b[39mpath\u001b[38;5;241m.\u001b[39mjoin(all_logs_dir, name)\n",
      "File \u001b[0;32m~/git/DigitalSlideArchive/ALBench/al_bench/strategy.py:394\u001b[0m, in \u001b[0;36mGenericStrategyHandler.run\u001b[0;34m(self, labeled_indices)\u001b[0m\n\u001b[1;32m    390\u001b[0m     \u001b[38;5;28mself\u001b[39m\u001b[38;5;241m.\u001b[39mmodel_handler\u001b[38;5;241m.\u001b[39mget_logger()\u001b[38;5;241m.\u001b[39mon_predict_end(\n\u001b[1;32m    391\u001b[0m         {\u001b[38;5;124m\"\u001b[39m\u001b[38;5;124moutputs\u001b[39m\u001b[38;5;124m\"\u001b[39m: unlabeled_predictions}\n\u001b[1;32m    392\u001b[0m     )\n\u001b[1;32m    393\u001b[0m \u001b[38;5;66;03m# Find the next indices to be labeled\u001b[39;00m\n\u001b[0;32m--> 394\u001b[0m next_indices: NDArray \u001b[38;5;241m=\u001b[39m \u001b[38;5;28;43mself\u001b[39;49m\u001b[38;5;241;43m.\u001b[39;49m\u001b[43mselect_next_indices\u001b[49m\u001b[43m(\u001b[49m\n\u001b[1;32m    395\u001b[0m \u001b[43m    \u001b[49m\u001b[43mlabeled_indices\u001b[49m\u001b[43m,\u001b[49m\u001b[43m \u001b[49m\u001b[43mvalidation_indices\u001b[49m\n\u001b[1;32m    396\u001b[0m \u001b[43m\u001b[49m\u001b[43m)\u001b[49m\n\u001b[1;32m    397\u001b[0m \u001b[38;5;66;03m# Query the oracle to get labels for the next_indices.  This call returns\u001b[39;00m\n\u001b[1;32m    398\u001b[0m \u001b[38;5;66;03m# all available labels, old and new.\u001b[39;00m\n\u001b[1;32m    399\u001b[0m labels \u001b[38;5;241m=\u001b[39m \u001b[38;5;28mself\u001b[39m\u001b[38;5;241m.\u001b[39mdataset_handler\u001b[38;5;241m.\u001b[39mquery_oracle(next_indices)\n",
      "File \u001b[0;32m~/git/DigitalSlideArchive/ALBench/al_bench/strategy.py:614\u001b[0m, in \u001b[0;36mBaldStrategyHandler.select_next_indices\u001b[0;34m(self, labeled_indices, validation_indices)\u001b[0m\n\u001b[1;32m    605\u001b[0m \u001b[38;5;28;01mdef\u001b[39;00m \u001b[38;5;21mselect_next_indices\u001b[39m(\n\u001b[1;32m    606\u001b[0m     \u001b[38;5;28mself\u001b[39m,\n\u001b[1;32m    607\u001b[0m     labeled_indices: NDArray,\n\u001b[1;32m    608\u001b[0m     validation_indices: NDArray \u001b[38;5;241m=\u001b[39m np\u001b[38;5;241m.\u001b[39marray((), dtype\u001b[38;5;241m=\u001b[39mnp\u001b[38;5;241m.\u001b[39mint64),\n\u001b[1;32m    609\u001b[0m ) \u001b[38;5;241m-\u001b[39m\u001b[38;5;241m>\u001b[39m NDArray:\n\u001b[1;32m    610\u001b[0m     \u001b[38;5;124;03m\"\"\"\u001b[39;00m\n\u001b[1;32m    611\u001b[0m \u001b[38;5;124;03m    Select new examples to be labeled by the expert.  This choses the unlabeled\u001b[39;00m\n\u001b[1;32m    612\u001b[0m \u001b[38;5;124;03m    examples based upon the BALD criterion.  (See also BatchBaldStrategyHandler.)\u001b[39;00m\n\u001b[1;32m    613\u001b[0m \u001b[38;5;124;03m    \"\"\"\u001b[39;00m\n\u001b[0;32m--> 614\u001b[0m     \u001b[38;5;28;01mraise\u001b[39;00m \u001b[38;5;167;01mNotImplementedError\u001b[39;00m(\n\u001b[1;32m    615\u001b[0m         \u001b[38;5;124m\"\u001b[39m\u001b[38;5;124mBaldStrategyHandler::select_next_indices is not yet implemented.\u001b[39m\u001b[38;5;124m\"\u001b[39m\n\u001b[1;32m    616\u001b[0m     )\n",
      "\u001b[0;31mNotImplementedError\u001b[0m: BaldStrategyHandler::select_next_indices is not yet implemented."
     ]
    }
   ],
   "source": [
    "all_logs_dir = \"runs-SamplingBayesian\"\n",
    "try:\n",
    "    shutil.rmtree(all_logs_dir)  # DELETE OLD LOG FILES\n",
    "except:\n",
    "    pass\n",
    "\n",
    "for name, my_strategy_handler in (\n",
    "    (\"BALD\", alb.strategy.BaldStrategyHandler()),\n",
    "    (\"BatchBALD\", alb.strategy.BatchBaldStrategyHandler()),\n",
    "):\n",
    "    print(f\"=== Begin Strategy: {name} ===\")\n",
    "    my_strategy_handler.set_dataset_handler(my_dataset_handler)\n",
    "    my_strategy_handler.set_model_handler(my_model_handler)\n",
    "    my_strategy_handler.set_learning_parameters(\n",
    "        label_of_interest=0,  # We've supplied only one label per feature vector\n",
    "        maximum_queries=8,\n",
    "        number_to_select_per_query=10,\n",
    "    )\n",
    "\n",
    "    # ################################################################\n",
    "    # Simulate the strategy.\n",
    "    my_strategy_handler.run(currently_labeled_examples)\n",
    "    # ################################################################\n",
    "\n",
    "    # We will write out collected information to disk.  First say where:\n",
    "    log_dir = os.path.join(all_logs_dir, name)\n",
    "    # Write accuracy and loss information during training\n",
    "    my_strategy_handler.write_train_log_for_tensorboard(log_dir=log_dir)\n",
    "    # Write confidence statistics during active learning\n",
    "    my_strategy_handler.write_confidence_log_for_tensorboard(log_dir=log_dir)\n",
    "print(\"=== Done ===\")"
   ]
  },
  {
   "cell_type": "markdown",
   "id": "5e7135fa-8548-4162-a55c-32716ffe81f7",
   "metadata": {},
   "source": [
    "<h2>Use with TensorBoard</h2>\n",
    "\n",
    "<p>Write me</p>"
   ]
  },
  {
   "cell_type": "code",
   "execution_count": null,
   "id": "b2b2589a-a665-4124-809a-d04cd114b71c",
   "metadata": {},
   "outputs": [],
   "source": [
    "%load_ext tensorboard\n",
    "%tensorboard --logdir runs"
   ]
  },
  {
   "cell_type": "code",
   "execution_count": null,
   "id": "832c1a17-b976-4773-9588-e99fe67ed891",
   "metadata": {},
   "outputs": [],
   "source": [
    "print(currently_labeled_examples)"
   ]
  }
 ],
 "metadata": {
  "kernelspec": {
   "display_name": "al_bench",
   "language": "python",
   "name": "al_bench"
  },
  "language_info": {
   "codemirror_mode": {
    "name": "ipython",
    "version": 3
   },
   "file_extension": ".py",
   "mimetype": "text/x-python",
   "name": "python",
   "nbconvert_exporter": "python",
   "pygments_lexer": "ipython3",
   "version": "3.8.10"
  }
 },
 "nbformat": 4,
 "nbformat_minor": 5
}
